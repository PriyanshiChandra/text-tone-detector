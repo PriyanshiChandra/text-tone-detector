{
 "cells": [
  {
   "cell_type": "code",
   "execution_count": 1,
   "id": "3732b0a0",
   "metadata": {},
   "outputs": [
    {
     "name": "stderr",
     "output_type": "stream",
     "text": [
      "[nltk_data] Downloading package stopwords to C:\\Users\\Priyanshi\n",
      "[nltk_data]     Chandra\\AppData\\Roaming\\nltk_data...\n",
      "[nltk_data]   Package stopwords is already up-to-date!\n"
     ]
    }
   ],
   "source": [
    "import pandas as pd\n",
    "import numpy as np\n",
    "import matplotlib as plt\n",
    "import re\n",
    "from nltk.stem.porter import PorterStemmer\n",
    "from sklearn.feature_extraction.text import TfidfVectorizer\n",
    "import re\n",
    "import nltk\n",
    "nltk.download('stopwords')\n",
    "from sklearn import *"
   ]
  },
  {
   "cell_type": "code",
   "execution_count": 2,
   "id": "e01851c4",
   "metadata": {},
   "outputs": [],
   "source": [
    "df=pd.read_csv(\"training-models/amazon.csv\")"
   ]
  },
  {
   "cell_type": "code",
   "execution_count": 3,
   "id": "d2ceeb5d",
   "metadata": {},
   "outputs": [
    {
     "data": {
      "text/html": [
       "<div>\n",
       "<style scoped>\n",
       "    .dataframe tbody tr th:only-of-type {\n",
       "        vertical-align: middle;\n",
       "    }\n",
       "\n",
       "    .dataframe tbody tr th {\n",
       "        vertical-align: top;\n",
       "    }\n",
       "\n",
       "    .dataframe thead th {\n",
       "        text-align: right;\n",
       "    }\n",
       "</style>\n",
       "<table border=\"1\" class=\"dataframe\">\n",
       "  <thead>\n",
       "    <tr style=\"text-align: right;\">\n",
       "      <th></th>\n",
       "      <th>id</th>\n",
       "      <th>label</th>\n",
       "      <th>tweet</th>\n",
       "    </tr>\n",
       "  </thead>\n",
       "  <tbody>\n",
       "    <tr>\n",
       "      <th>0</th>\n",
       "      <td>1</td>\n",
       "      <td>1</td>\n",
       "      <td>Good case, Excellent value.</td>\n",
       "    </tr>\n",
       "    <tr>\n",
       "      <th>1</th>\n",
       "      <td>2</td>\n",
       "      <td>1</td>\n",
       "      <td>Great for the jawbone.</td>\n",
       "    </tr>\n",
       "    <tr>\n",
       "      <th>2</th>\n",
       "      <td>3</td>\n",
       "      <td>0</td>\n",
       "      <td>Tied to charger for conversations lasting more...</td>\n",
       "    </tr>\n",
       "    <tr>\n",
       "      <th>3</th>\n",
       "      <td>4</td>\n",
       "      <td>1</td>\n",
       "      <td>The mic is great.</td>\n",
       "    </tr>\n",
       "    <tr>\n",
       "      <th>4</th>\n",
       "      <td>5</td>\n",
       "      <td>0</td>\n",
       "      <td>I have to jiggle the plug to get it to line up...</td>\n",
       "    </tr>\n",
       "  </tbody>\n",
       "</table>\n",
       "</div>"
      ],
      "text/plain": [
       "   id  label                                              tweet\n",
       "0   1      1                        Good case, Excellent value.\n",
       "1   2      1                             Great for the jawbone.\n",
       "2   3      0  Tied to charger for conversations lasting more...\n",
       "3   4      1                                  The mic is great.\n",
       "4   5      0  I have to jiggle the plug to get it to line up..."
      ]
     },
     "execution_count": 3,
     "metadata": {},
     "output_type": "execute_result"
    }
   ],
   "source": [
    "df.head()"
   ]
  },
  {
   "cell_type": "code",
   "execution_count": 4,
   "id": "975308b4",
   "metadata": {},
   "outputs": [
    {
     "data": {
      "text/plain": [
       "1    500\n",
       "0    499\n",
       "Name: label, dtype: int64"
      ]
     },
     "execution_count": 4,
     "metadata": {},
     "output_type": "execute_result"
    }
   ],
   "source": [
    "df['label'].value_counts()"
   ]
  },
  {
   "cell_type": "code",
   "execution_count": 5,
   "id": "9cbab24b",
   "metadata": {},
   "outputs": [],
   "source": [
    "def clear_tweets(text):\n",
    "    text=re.sub('<[^>]*>','',text)\n",
    "    emojis=re.findall('(?::|;|=)(?:-)?(?:\\)|\\(|D|P)',text)\n",
    "    text=re.sub('[\\W]+',' ',text.lower()) +' '.join(emojis).replace('-','')\n",
    "\n",
    "    return text   "
   ]
  },
  {
   "cell_type": "code",
   "execution_count": 8,
   "id": "8c8f39bb",
   "metadata": {},
   "outputs": [
    {
     "data": {
      "text/html": [
       "<div>\n",
       "<style scoped>\n",
       "    .dataframe tbody tr th:only-of-type {\n",
       "        vertical-align: middle;\n",
       "    }\n",
       "\n",
       "    .dataframe tbody tr th {\n",
       "        vertical-align: top;\n",
       "    }\n",
       "\n",
       "    .dataframe thead th {\n",
       "        text-align: right;\n",
       "    }\n",
       "</style>\n",
       "<table border=\"1\" class=\"dataframe\">\n",
       "  <thead>\n",
       "    <tr style=\"text-align: right;\">\n",
       "      <th></th>\n",
       "      <th>id</th>\n",
       "      <th>label</th>\n",
       "      <th>tweet</th>\n",
       "      <th>cleared_tweets</th>\n",
       "    </tr>\n",
       "  </thead>\n",
       "  <tbody>\n",
       "    <tr>\n",
       "      <th>0</th>\n",
       "      <td>1</td>\n",
       "      <td>1</td>\n",
       "      <td>Good case, Excellent value.</td>\n",
       "      <td>good case excellent value</td>\n",
       "    </tr>\n",
       "    <tr>\n",
       "      <th>1</th>\n",
       "      <td>2</td>\n",
       "      <td>1</td>\n",
       "      <td>Great for the jawbone.</td>\n",
       "      <td>great for the jawbone</td>\n",
       "    </tr>\n",
       "    <tr>\n",
       "      <th>2</th>\n",
       "      <td>3</td>\n",
       "      <td>0</td>\n",
       "      <td>Tied to charger for conversations lasting more...</td>\n",
       "      <td>tied to charger for conversations lasting more...</td>\n",
       "    </tr>\n",
       "    <tr>\n",
       "      <th>3</th>\n",
       "      <td>4</td>\n",
       "      <td>1</td>\n",
       "      <td>The mic is great.</td>\n",
       "      <td>the mic is great</td>\n",
       "    </tr>\n",
       "    <tr>\n",
       "      <th>4</th>\n",
       "      <td>5</td>\n",
       "      <td>0</td>\n",
       "      <td>I have to jiggle the plug to get it to line up...</td>\n",
       "      <td>i have to jiggle the plug to get it to line up...</td>\n",
       "    </tr>\n",
       "  </tbody>\n",
       "</table>\n",
       "</div>"
      ],
      "text/plain": [
       "   id  label                                              tweet  \\\n",
       "0   1      1                        Good case, Excellent value.   \n",
       "1   2      1                             Great for the jawbone.   \n",
       "2   3      0  Tied to charger for conversations lasting more...   \n",
       "3   4      1                                  The mic is great.   \n",
       "4   5      0  I have to jiggle the plug to get it to line up...   \n",
       "\n",
       "                                      cleared_tweets  \n",
       "0                         good case excellent value   \n",
       "1                             great for the jawbone   \n",
       "2  tied to charger for conversations lasting more...  \n",
       "3                                  the mic is great   \n",
       "4  i have to jiggle the plug to get it to line up...  "
      ]
     },
     "execution_count": 8,
     "metadata": {},
     "output_type": "execute_result"
    }
   ],
   "source": [
    "df['cleared_tweets']=df['tweet'].apply(clear_tweets)\n",
    "df.head()"
   ]
  },
  {
   "cell_type": "code",
   "execution_count": 9,
   "id": "bb1ac532",
   "metadata": {},
   "outputs": [],
   "source": [
    "def tokenize_tweets(tweet):\n",
    "    return tweet.split()"
   ]
  },
  {
   "cell_type": "code",
   "execution_count": 10,
   "id": "7d15a538",
   "metadata": {},
   "outputs": [
    {
     "data": {
      "text/html": [
       "<div>\n",
       "<style scoped>\n",
       "    .dataframe tbody tr th:only-of-type {\n",
       "        vertical-align: middle;\n",
       "    }\n",
       "\n",
       "    .dataframe tbody tr th {\n",
       "        vertical-align: top;\n",
       "    }\n",
       "\n",
       "    .dataframe thead th {\n",
       "        text-align: right;\n",
       "    }\n",
       "</style>\n",
       "<table border=\"1\" class=\"dataframe\">\n",
       "  <thead>\n",
       "    <tr style=\"text-align: right;\">\n",
       "      <th></th>\n",
       "      <th>id</th>\n",
       "      <th>label</th>\n",
       "      <th>tweet</th>\n",
       "      <th>cleared_tweets</th>\n",
       "      <th>tokenized_tweets</th>\n",
       "    </tr>\n",
       "  </thead>\n",
       "  <tbody>\n",
       "    <tr>\n",
       "      <th>0</th>\n",
       "      <td>1</td>\n",
       "      <td>1</td>\n",
       "      <td>Good case, Excellent value.</td>\n",
       "      <td>good case excellent value</td>\n",
       "      <td>[good, case, excellent, value]</td>\n",
       "    </tr>\n",
       "    <tr>\n",
       "      <th>1</th>\n",
       "      <td>2</td>\n",
       "      <td>1</td>\n",
       "      <td>Great for the jawbone.</td>\n",
       "      <td>great for the jawbone</td>\n",
       "      <td>[great, for, the, jawbone]</td>\n",
       "    </tr>\n",
       "    <tr>\n",
       "      <th>2</th>\n",
       "      <td>3</td>\n",
       "      <td>0</td>\n",
       "      <td>Tied to charger for conversations lasting more...</td>\n",
       "      <td>tied to charger for conversations lasting more...</td>\n",
       "      <td>[tied, to, charger, for, conversations, lastin...</td>\n",
       "    </tr>\n",
       "    <tr>\n",
       "      <th>3</th>\n",
       "      <td>4</td>\n",
       "      <td>1</td>\n",
       "      <td>The mic is great.</td>\n",
       "      <td>the mic is great</td>\n",
       "      <td>[the, mic, is, great]</td>\n",
       "    </tr>\n",
       "    <tr>\n",
       "      <th>4</th>\n",
       "      <td>5</td>\n",
       "      <td>0</td>\n",
       "      <td>I have to jiggle the plug to get it to line up...</td>\n",
       "      <td>i have to jiggle the plug to get it to line up...</td>\n",
       "      <td>[i, have, to, jiggle, the, plug, to, get, it, ...</td>\n",
       "    </tr>\n",
       "  </tbody>\n",
       "</table>\n",
       "</div>"
      ],
      "text/plain": [
       "   id  label                                              tweet  \\\n",
       "0   1      1                        Good case, Excellent value.   \n",
       "1   2      1                             Great for the jawbone.   \n",
       "2   3      0  Tied to charger for conversations lasting more...   \n",
       "3   4      1                                  The mic is great.   \n",
       "4   5      0  I have to jiggle the plug to get it to line up...   \n",
       "\n",
       "                                      cleared_tweets  \\\n",
       "0                         good case excellent value    \n",
       "1                             great for the jawbone    \n",
       "2  tied to charger for conversations lasting more...   \n",
       "3                                  the mic is great    \n",
       "4  i have to jiggle the plug to get it to line up...   \n",
       "\n",
       "                                    tokenized_tweets  \n",
       "0                     [good, case, excellent, value]  \n",
       "1                         [great, for, the, jawbone]  \n",
       "2  [tied, to, charger, for, conversations, lastin...  \n",
       "3                              [the, mic, is, great]  \n",
       "4  [i, have, to, jiggle, the, plug, to, get, it, ...  "
      ]
     },
     "execution_count": 10,
     "metadata": {},
     "output_type": "execute_result"
    }
   ],
   "source": [
    "df['tokenized_tweets']=df['cleared_tweets'].apply(tokenize_tweets)\n",
    "df.head()"
   ]
  },
  {
   "cell_type": "code",
   "execution_count": 11,
   "id": "f0949c70",
   "metadata": {},
   "outputs": [
    {
     "name": "stderr",
     "output_type": "stream",
     "text": [
      "[nltk_data] Downloading package punkt to C:\\Users\\Priyanshi\n",
      "[nltk_data]     Chandra\\AppData\\Roaming\\nltk_data...\n",
      "[nltk_data]   Package punkt is already up-to-date!\n"
     ]
    },
    {
     "data": {
      "text/plain": [
       "True"
      ]
     },
     "execution_count": 11,
     "metadata": {},
     "output_type": "execute_result"
    }
   ],
   "source": [
    "import nltk\n",
    "nltk.download('punkt')"
   ]
  },
  {
   "cell_type": "code",
   "execution_count": 13,
   "id": "e7d45288",
   "metadata": {},
   "outputs": [],
   "source": [
    "from nltk.corpus import stopwords\n",
    "stop_words = set(stopwords.words(\"english\"))"
   ]
  },
  {
   "cell_type": "code",
   "execution_count": 14,
   "id": "ab37e6c4",
   "metadata": {},
   "outputs": [],
   "source": [
    "def stopword_removal(token_tweet):\n",
    "    filtered_list=[]\n",
    "    for word in token_tweet:\n",
    "            if word.casefold() not in stop_words:\n",
    "                filtered_list.append(word)\n",
    "    return filtered_list"
   ]
  },
  {
   "cell_type": "code",
   "execution_count": 19,
   "id": "402d234f",
   "metadata": {},
   "outputs": [
    {
     "data": {
      "text/html": [
       "<div>\n",
       "<style scoped>\n",
       "    .dataframe tbody tr th:only-of-type {\n",
       "        vertical-align: middle;\n",
       "    }\n",
       "\n",
       "    .dataframe tbody tr th {\n",
       "        vertical-align: top;\n",
       "    }\n",
       "\n",
       "    .dataframe thead th {\n",
       "        text-align: right;\n",
       "    }\n",
       "</style>\n",
       "<table border=\"1\" class=\"dataframe\">\n",
       "  <thead>\n",
       "    <tr style=\"text-align: right;\">\n",
       "      <th></th>\n",
       "      <th>id</th>\n",
       "      <th>label</th>\n",
       "      <th>tweet</th>\n",
       "      <th>cleared_tweets</th>\n",
       "      <th>tokenized_tweets</th>\n",
       "      <th>stopwords_removed</th>\n",
       "    </tr>\n",
       "  </thead>\n",
       "  <tbody>\n",
       "    <tr>\n",
       "      <th>0</th>\n",
       "      <td>1</td>\n",
       "      <td>1</td>\n",
       "      <td>Good case, Excellent value.</td>\n",
       "      <td>good case excellent value</td>\n",
       "      <td>[good, case, excellent, value]</td>\n",
       "      <td>[good, case, excellent, value]</td>\n",
       "    </tr>\n",
       "    <tr>\n",
       "      <th>1</th>\n",
       "      <td>2</td>\n",
       "      <td>1</td>\n",
       "      <td>Great for the jawbone.</td>\n",
       "      <td>great for the jawbone</td>\n",
       "      <td>[great, for, the, jawbone]</td>\n",
       "      <td>[great, jawbone]</td>\n",
       "    </tr>\n",
       "    <tr>\n",
       "      <th>2</th>\n",
       "      <td>3</td>\n",
       "      <td>0</td>\n",
       "      <td>Tied to charger for conversations lasting more...</td>\n",
       "      <td>tied to charger for conversations lasting more...</td>\n",
       "      <td>[tied, to, charger, for, conversations, lastin...</td>\n",
       "      <td>[tied, charger, conversations, lasting, 45, mi...</td>\n",
       "    </tr>\n",
       "    <tr>\n",
       "      <th>3</th>\n",
       "      <td>4</td>\n",
       "      <td>1</td>\n",
       "      <td>The mic is great.</td>\n",
       "      <td>the mic is great</td>\n",
       "      <td>[the, mic, is, great]</td>\n",
       "      <td>[mic, great]</td>\n",
       "    </tr>\n",
       "    <tr>\n",
       "      <th>4</th>\n",
       "      <td>5</td>\n",
       "      <td>0</td>\n",
       "      <td>I have to jiggle the plug to get it to line up...</td>\n",
       "      <td>i have to jiggle the plug to get it to line up...</td>\n",
       "      <td>[i, have, to, jiggle, the, plug, to, get, it, ...</td>\n",
       "      <td>[jiggle, plug, get, line, right, get, decent, ...</td>\n",
       "    </tr>\n",
       "  </tbody>\n",
       "</table>\n",
       "</div>"
      ],
      "text/plain": [
       "   id  label                                              tweet  \\\n",
       "0   1      1                        Good case, Excellent value.   \n",
       "1   2      1                             Great for the jawbone.   \n",
       "2   3      0  Tied to charger for conversations lasting more...   \n",
       "3   4      1                                  The mic is great.   \n",
       "4   5      0  I have to jiggle the plug to get it to line up...   \n",
       "\n",
       "                                      cleared_tweets  \\\n",
       "0                         good case excellent value    \n",
       "1                             great for the jawbone    \n",
       "2  tied to charger for conversations lasting more...   \n",
       "3                                  the mic is great    \n",
       "4  i have to jiggle the plug to get it to line up...   \n",
       "\n",
       "                                    tokenized_tweets  \\\n",
       "0                     [good, case, excellent, value]   \n",
       "1                         [great, for, the, jawbone]   \n",
       "2  [tied, to, charger, for, conversations, lastin...   \n",
       "3                              [the, mic, is, great]   \n",
       "4  [i, have, to, jiggle, the, plug, to, get, it, ...   \n",
       "\n",
       "                                   stopwords_removed  \n",
       "0                     [good, case, excellent, value]  \n",
       "1                                   [great, jawbone]  \n",
       "2  [tied, charger, conversations, lasting, 45, mi...  \n",
       "3                                       [mic, great]  \n",
       "4  [jiggle, plug, get, line, right, get, decent, ...  "
      ]
     },
     "execution_count": 19,
     "metadata": {},
     "output_type": "execute_result"
    }
   ],
   "source": [
    "df['stopwords_removed']=df['tokenized_tweets'].apply(stopword_removal)\n",
    "df.head()"
   ]
  },
  {
   "cell_type": "code",
   "execution_count": 20,
   "id": "4938d630",
   "metadata": {},
   "outputs": [],
   "source": [
    "stemmer = PorterStemmer()"
   ]
  },
  {
   "cell_type": "code",
   "execution_count": 26,
   "id": "86c17f94",
   "metadata": {},
   "outputs": [],
   "source": [
    "def stemming_tweets(tweet):\n",
    "    stemmed_words = [stemmer.stem(word) for word in tweet]\n",
    "    joined_str=\"\"\n",
    "    for word in stemmed_words:\n",
    "        joined_str=joined_str+\" \"+word\n",
    "    return joined_str"
   ]
  },
  {
   "cell_type": "code",
   "execution_count": 29,
   "id": "12753ffd",
   "metadata": {},
   "outputs": [
    {
     "data": {
      "text/html": [
       "<div>\n",
       "<style scoped>\n",
       "    .dataframe tbody tr th:only-of-type {\n",
       "        vertical-align: middle;\n",
       "    }\n",
       "\n",
       "    .dataframe tbody tr th {\n",
       "        vertical-align: top;\n",
       "    }\n",
       "\n",
       "    .dataframe thead th {\n",
       "        text-align: right;\n",
       "    }\n",
       "</style>\n",
       "<table border=\"1\" class=\"dataframe\">\n",
       "  <thead>\n",
       "    <tr style=\"text-align: right;\">\n",
       "      <th></th>\n",
       "      <th>id</th>\n",
       "      <th>label</th>\n",
       "      <th>tweet</th>\n",
       "      <th>cleared_tweets</th>\n",
       "      <th>tokenized_tweets</th>\n",
       "      <th>stopwords_removed</th>\n",
       "      <th>stemmed_tweets</th>\n",
       "    </tr>\n",
       "  </thead>\n",
       "  <tbody>\n",
       "    <tr>\n",
       "      <th>0</th>\n",
       "      <td>1</td>\n",
       "      <td>1</td>\n",
       "      <td>Good case, Excellent value.</td>\n",
       "      <td>good case excellent value</td>\n",
       "      <td>[good, case, excellent, value]</td>\n",
       "      <td>[good, case, excellent, value]</td>\n",
       "      <td>good case excel valu</td>\n",
       "    </tr>\n",
       "    <tr>\n",
       "      <th>1</th>\n",
       "      <td>2</td>\n",
       "      <td>1</td>\n",
       "      <td>Great for the jawbone.</td>\n",
       "      <td>great for the jawbone</td>\n",
       "      <td>[great, for, the, jawbone]</td>\n",
       "      <td>[great, jawbone]</td>\n",
       "      <td>great jawbon</td>\n",
       "    </tr>\n",
       "    <tr>\n",
       "      <th>2</th>\n",
       "      <td>3</td>\n",
       "      <td>0</td>\n",
       "      <td>Tied to charger for conversations lasting more...</td>\n",
       "      <td>tied to charger for conversations lasting more...</td>\n",
       "      <td>[tied, to, charger, for, conversations, lastin...</td>\n",
       "      <td>[tied, charger, conversations, lasting, 45, mi...</td>\n",
       "      <td>tie charger convers last 45 minut major problem</td>\n",
       "    </tr>\n",
       "    <tr>\n",
       "      <th>3</th>\n",
       "      <td>4</td>\n",
       "      <td>1</td>\n",
       "      <td>The mic is great.</td>\n",
       "      <td>the mic is great</td>\n",
       "      <td>[the, mic, is, great]</td>\n",
       "      <td>[mic, great]</td>\n",
       "      <td>mic great</td>\n",
       "    </tr>\n",
       "    <tr>\n",
       "      <th>4</th>\n",
       "      <td>5</td>\n",
       "      <td>0</td>\n",
       "      <td>I have to jiggle the plug to get it to line up...</td>\n",
       "      <td>i have to jiggle the plug to get it to line up...</td>\n",
       "      <td>[i, have, to, jiggle, the, plug, to, get, it, ...</td>\n",
       "      <td>[jiggle, plug, get, line, right, get, decent, ...</td>\n",
       "      <td>jiggl plug get line right get decent volum</td>\n",
       "    </tr>\n",
       "  </tbody>\n",
       "</table>\n",
       "</div>"
      ],
      "text/plain": [
       "   id  label                                              tweet  \\\n",
       "0   1      1                        Good case, Excellent value.   \n",
       "1   2      1                             Great for the jawbone.   \n",
       "2   3      0  Tied to charger for conversations lasting more...   \n",
       "3   4      1                                  The mic is great.   \n",
       "4   5      0  I have to jiggle the plug to get it to line up...   \n",
       "\n",
       "                                      cleared_tweets  \\\n",
       "0                         good case excellent value    \n",
       "1                             great for the jawbone    \n",
       "2  tied to charger for conversations lasting more...   \n",
       "3                                  the mic is great    \n",
       "4  i have to jiggle the plug to get it to line up...   \n",
       "\n",
       "                                    tokenized_tweets  \\\n",
       "0                     [good, case, excellent, value]   \n",
       "1                         [great, for, the, jawbone]   \n",
       "2  [tied, to, charger, for, conversations, lastin...   \n",
       "3                              [the, mic, is, great]   \n",
       "4  [i, have, to, jiggle, the, plug, to, get, it, ...   \n",
       "\n",
       "                                   stopwords_removed  \\\n",
       "0                     [good, case, excellent, value]   \n",
       "1                                   [great, jawbone]   \n",
       "2  [tied, charger, conversations, lasting, 45, mi...   \n",
       "3                                       [mic, great]   \n",
       "4  [jiggle, plug, get, line, right, get, decent, ...   \n",
       "\n",
       "                                     stemmed_tweets  \n",
       "0                              good case excel valu  \n",
       "1                                      great jawbon  \n",
       "2   tie charger convers last 45 minut major problem  \n",
       "3                                         mic great  \n",
       "4        jiggl plug get line right get decent volum  "
      ]
     },
     "execution_count": 29,
     "metadata": {},
     "output_type": "execute_result"
    }
   ],
   "source": [
    "df['stemmed_tweets']=df['stopwords_removed'].apply(stemming_tweets)\n",
    "df.head()"
   ]
  },
  {
   "cell_type": "markdown",
   "id": "80d2c312",
   "metadata": {},
   "source": [
    "### Trying out new method"
   ]
  },
  {
   "cell_type": "code",
   "execution_count": 149,
   "id": "cd669daf",
   "metadata": {},
   "outputs": [],
   "source": [
    "def get_tweets_for_model(cleaned_tokens_list):\n",
    "    for tweet_tokens in cleaned_tokens_list:\n",
    "        yield dict([token, True] for token in tweet_tokens)\n",
    "\n",
    "\n"
   ]
  },
  {
   "cell_type": "code",
   "execution_count": 150,
   "id": "b09136d9",
   "metadata": {},
   "outputs": [],
   "source": [
    "# tweet_list = list(df['stemmed_tweets'].apply(tokenize_tweets))\n",
    "# print(type(tweet_list))\n",
    "# tokens_for_model = get_tweets_for_model(tweet_list)\n",
    "\n",
    "pos_tweet_list=list(df['stemmed_tweets'][df['label']==1].apply(tokenize_tweets))\n",
    "neg_tweet_list=list(df['stemmed_tweets'][df['label']==0].apply(tokenize_tweets))\n",
    "\n",
    "pos_tokens = get_tweets_for_model(pos_tweet_list)\n",
    "neg_tokens = get_tweets_for_model(neg_tweet_list)\n"
   ]
  },
  {
   "cell_type": "code",
   "execution_count": 151,
   "id": "f1650d50",
   "metadata": {},
   "outputs": [],
   "source": [
    "positive_dataset = [(tweet_dict, \"Positive\")\n",
    "                     for tweet_dict in pos_tokens]\n",
    "\n",
    "negative_dataset = [(tweet_dict, \"Negative\")\n",
    "                     for tweet_dict in neg_tokens]\n",
    "\n",
    "dataset = positive_dataset + negative_dataset\n"
   ]
  },
  {
   "cell_type": "code",
   "execution_count": 152,
   "id": "39e26009",
   "metadata": {},
   "outputs": [],
   "source": [
    "import random\n",
    "random.shuffle(dataset)"
   ]
  },
  {
   "cell_type": "code",
   "execution_count": 153,
   "id": "ad0a789b",
   "metadata": {},
   "outputs": [],
   "source": [
    "train_data = dataset[:799]\n",
    "test_data = dataset[800:]"
   ]
  },
  {
   "cell_type": "code",
   "execution_count": 154,
   "id": "5a5c1fa0",
   "metadata": {},
   "outputs": [
    {
     "name": "stdout",
     "output_type": "stream",
     "text": [
      "Accuracy is: 0.7688442211055276\n"
     ]
    }
   ],
   "source": [
    "from nltk import classify\n",
    "from nltk import NaiveBayesClassifier\n",
    "classifier = NaiveBayesClassifier.train(train_data)\n",
    "\n",
    "print(\"Accuracy is:\", classify.accuracy(classifier, test_data))\n",
    "\n"
   ]
  },
  {
   "cell_type": "code",
   "execution_count": 160,
   "id": "95150b55",
   "metadata": {},
   "outputs": [
    {
     "name": "stdout",
     "output_type": "stream",
     "text": [
      "Positive\n"
     ]
    }
   ],
   "source": [
    "custom = \"Happy girls are prettiest and good\"\n",
    "custom=clear_tweets(custom)\n",
    "custom=tokenize_tweets(custom)\n",
    "custom=stopword_removal(custom)\n",
    "custom=stemming_tweets(custom)\n",
    "custom=tokenize_tweets(custom)\n",
    "print(classifier.classify(dict([token, True] for token in custom)))"
   ]
  },
  {
   "cell_type": "code",
   "execution_count": 162,
   "id": "4d933378",
   "metadata": {},
   "outputs": [],
   "source": [
    "import pickle\n",
    "data={\"classifier\":classifier}\n",
    "with open ('saved_steps_new.pk1','wb') as file:\n",
    "    pickle.dump(data,file)"
   ]
  },
  {
   "cell_type": "code",
   "execution_count": 163,
   "id": "eb2d9b2c",
   "metadata": {},
   "outputs": [
    {
     "name": "stdout",
     "output_type": "stream",
     "text": [
      "Negative\n"
     ]
    }
   ],
   "source": [
    "with open('saved_steps_new.pk1','rb') as file:\n",
    "    data=pickle.load(file)\n",
    "model_loaded=data['classifier']\n",
    "custom=\"This is so ugly. It is so bad remove it please\"\n",
    "custom=clear_tweets(custom)\n",
    "custom=tokenize_tweets(custom)\n",
    "custom=stopword_removal(custom)\n",
    "custom=stemming_tweets(custom)\n",
    "custom=tokenize_tweets(custom)\n",
    "print(model_loaded.classify(dict([token, True] for token in custom)))"
   ]
  },
  {
   "cell_type": "markdown",
   "id": "43011869",
   "metadata": {},
   "source": [
    "### Yelp, Amazon, IMDB data combined"
   ]
  },
  {
   "cell_type": "code",
   "execution_count": 229,
   "id": "7a5ff496",
   "metadata": {},
   "outputs": [
    {
     "data": {
      "text/html": [
       "<div>\n",
       "<style scoped>\n",
       "    .dataframe tbody tr th:only-of-type {\n",
       "        vertical-align: middle;\n",
       "    }\n",
       "\n",
       "    .dataframe tbody tr th {\n",
       "        vertical-align: top;\n",
       "    }\n",
       "\n",
       "    .dataframe thead th {\n",
       "        text-align: right;\n",
       "    }\n",
       "</style>\n",
       "<table border=\"1\" class=\"dataframe\">\n",
       "  <thead>\n",
       "    <tr style=\"text-align: right;\">\n",
       "      <th></th>\n",
       "      <th>id</th>\n",
       "      <th>label</th>\n",
       "      <th>tweet</th>\n",
       "    </tr>\n",
       "  </thead>\n",
       "  <tbody>\n",
       "    <tr>\n",
       "      <th>0</th>\n",
       "      <td>1</td>\n",
       "      <td>0</td>\n",
       "      <td>Crust is not good.</td>\n",
       "    </tr>\n",
       "    <tr>\n",
       "      <th>1</th>\n",
       "      <td>2</td>\n",
       "      <td>0</td>\n",
       "      <td>Not tasty and the texture was just nasty.</td>\n",
       "    </tr>\n",
       "    <tr>\n",
       "      <th>2</th>\n",
       "      <td>3</td>\n",
       "      <td>1</td>\n",
       "      <td>Stopped by during the late May bank holiday of...</td>\n",
       "    </tr>\n",
       "    <tr>\n",
       "      <th>3</th>\n",
       "      <td>4</td>\n",
       "      <td>1</td>\n",
       "      <td>The selection on the menu was great and so wer...</td>\n",
       "    </tr>\n",
       "    <tr>\n",
       "      <th>4</th>\n",
       "      <td>5</td>\n",
       "      <td>0</td>\n",
       "      <td>Now I am getting angry and I want my damn pho.</td>\n",
       "    </tr>\n",
       "  </tbody>\n",
       "</table>\n",
       "</div>"
      ],
      "text/plain": [
       "   id  label                                              tweet\n",
       "0   1      0                                 Crust is not good.\n",
       "1   2      0          Not tasty and the texture was just nasty.\n",
       "2   3      1  Stopped by during the late May bank holiday of...\n",
       "3   4      1  The selection on the menu was great and so wer...\n",
       "4   5      0     Now I am getting angry and I want my damn pho."
      ]
     },
     "execution_count": 229,
     "metadata": {},
     "output_type": "execute_result"
    }
   ],
   "source": [
    "yelp=pd.read_csv(\"training-models/yelp.csv\")\n",
    "amazon=pd.read_csv(\"training-models/amazon.csv\")\n",
    "yelp.head()"
   ]
  },
  {
   "cell_type": "code",
   "execution_count": 230,
   "id": "434fb60e",
   "metadata": {},
   "outputs": [],
   "source": [
    "new_dataset=amazon.append(yelp)"
   ]
  },
  {
   "cell_type": "code",
   "execution_count": 231,
   "id": "7fb2da0b",
   "metadata": {},
   "outputs": [],
   "source": [
    "imdb=pd.read_csv(\"training-models/imdb.csv\")\n",
    "imdb.head()\n",
    "def convert_int(text):\n",
    "    return int(text)\n",
    "\n",
    "imdb['label']=imdb['label'].apply(convert_int)"
   ]
  },
  {
   "cell_type": "code",
   "execution_count": 232,
   "id": "23e402cf",
   "metadata": {},
   "outputs": [],
   "source": [
    "new_dataset=new_dataset.append(imdb)"
   ]
  },
  {
   "cell_type": "code",
   "execution_count": 233,
   "id": "f07527ed",
   "metadata": {},
   "outputs": [],
   "source": [
    "new_dataset['label'].value_counts()\n",
    "\n",
    "new_dataset.loc[len(new_dataset.index)] = [1000, 0, 'shut up you dumb idiot'] \n",
    "new_dataset.loc[len(new_dataset.index)] = [1001, 0, 'fuck you dumb fucking idiot']\n",
    "new_dataset.loc[len(new_dataset.index)] = [1002, 0, 'ew get lost and dont come here ever again']"
   ]
  },
  {
   "cell_type": "code",
   "execution_count": 234,
   "id": "40339a46",
   "metadata": {},
   "outputs": [
    {
     "data": {
      "text/html": [
       "<div>\n",
       "<style scoped>\n",
       "    .dataframe tbody tr th:only-of-type {\n",
       "        vertical-align: middle;\n",
       "    }\n",
       "\n",
       "    .dataframe tbody tr th {\n",
       "        vertical-align: top;\n",
       "    }\n",
       "\n",
       "    .dataframe thead th {\n",
       "        text-align: right;\n",
       "    }\n",
       "</style>\n",
       "<table border=\"1\" class=\"dataframe\">\n",
       "  <thead>\n",
       "    <tr style=\"text-align: right;\">\n",
       "      <th></th>\n",
       "      <th>id</th>\n",
       "      <th>label</th>\n",
       "      <th>tweet</th>\n",
       "    </tr>\n",
       "  </thead>\n",
       "  <tbody>\n",
       "    <tr>\n",
       "      <th>997</th>\n",
       "      <td>998</td>\n",
       "      <td>0</td>\n",
       "      <td>Exceptionally bad!</td>\n",
       "    </tr>\n",
       "    <tr>\n",
       "      <th>998</th>\n",
       "      <td>999</td>\n",
       "      <td>0</td>\n",
       "      <td>All in all its an insult to one's intelligence...</td>\n",
       "    </tr>\n",
       "    <tr>\n",
       "      <th>2997</th>\n",
       "      <td>1000</td>\n",
       "      <td>0</td>\n",
       "      <td>shut up you dumb idiot</td>\n",
       "    </tr>\n",
       "    <tr>\n",
       "      <th>2998</th>\n",
       "      <td>1001</td>\n",
       "      <td>0</td>\n",
       "      <td>fuck you dumb fucking idiot</td>\n",
       "    </tr>\n",
       "    <tr>\n",
       "      <th>2999</th>\n",
       "      <td>1002</td>\n",
       "      <td>0</td>\n",
       "      <td>ew get lost and dont come here ever again</td>\n",
       "    </tr>\n",
       "  </tbody>\n",
       "</table>\n",
       "</div>"
      ],
      "text/plain": [
       "        id  label                                              tweet\n",
       "997    998      0                               Exceptionally bad!  \n",
       "998    999      0  All in all its an insult to one's intelligence...\n",
       "2997  1000      0                             shut up you dumb idiot\n",
       "2998  1001      0                        fuck you dumb fucking idiot\n",
       "2999  1002      0          ew get lost and dont come here ever again"
      ]
     },
     "execution_count": 234,
     "metadata": {},
     "output_type": "execute_result"
    }
   ],
   "source": [
    "new_dataset.tail()"
   ]
  },
  {
   "cell_type": "code",
   "execution_count": 235,
   "id": "a0c043ed",
   "metadata": {},
   "outputs": [],
   "source": [
    "new_dataset['cleared_tweets']=new_dataset['tweet'].apply(clear_tweets)\n",
    "\n",
    "new_dataset['tokenized_tweets']=new_dataset['cleared_tweets'].apply(tokenize_tweets)\n",
    "\n",
    "new_dataset['stopwords_removed']=new_dataset['tokenized_tweets'].apply(stopword_removal)\n",
    "\n",
    "new_dataset['stemmed_tweets']=new_dataset['stopwords_removed'].apply(stemming_tweets)\n"
   ]
  },
  {
   "cell_type": "code",
   "execution_count": 236,
   "id": "edd6c914",
   "metadata": {},
   "outputs": [],
   "source": [
    "# tweet_list = list(df['stemmed_tweets'].apply(tokenize_tweets))\n",
    "# print(type(tweet_list))\n",
    "# tokens_for_model = get_tweets_for_model(tweet_list)\n",
    "\n",
    "pos_tweet_list=list(new_dataset['stemmed_tweets'][new_dataset['label']==1].apply(tokenize_tweets))\n",
    "neg_tweet_list=list(new_dataset['stemmed_tweets'][new_dataset['label']==0].apply(tokenize_tweets))\n",
    "\n",
    "pos_tokens = get_tweets_for_model(pos_tweet_list)\n",
    "neg_tokens = get_tweets_for_model(neg_tweet_list)\n"
   ]
  },
  {
   "cell_type": "code",
   "execution_count": 237,
   "id": "5876a3bb",
   "metadata": {},
   "outputs": [],
   "source": [
    "positive_dataset = [(tweet_dict, \"Positive\")\n",
    "                     for tweet_dict in pos_tokens]\n",
    "\n",
    "negative_dataset = [(tweet_dict, \"Negative\")\n",
    "                     for tweet_dict in neg_tokens]\n",
    "\n",
    "dataset = positive_dataset + negative_dataset\n"
   ]
  },
  {
   "cell_type": "code",
   "execution_count": 238,
   "id": "e7b21f34",
   "metadata": {},
   "outputs": [
    {
     "name": "stdout",
     "output_type": "stream",
     "text": [
      "Accuracy is: 0.9316666666666666\n"
     ]
    }
   ],
   "source": [
    "train_data = dataset[:1199]\n",
    "test_data = dataset[1200:]\n",
    "from nltk import classify\n",
    "from nltk import NaiveBayesClassifier\n",
    "new_classifier = NaiveBayesClassifier.train(dataset)\n",
    "\n",
    "print(\"Accuracy is:\", classify.accuracy(new_classifier, dataset))\n",
    "\n"
   ]
  },
  {
   "cell_type": "code",
   "execution_count": 241,
   "id": "b44e05b1",
   "metadata": {},
   "outputs": [
    {
     "name": "stdout",
     "output_type": "stream",
     "text": [
      "Negative\n"
     ]
    }
   ],
   "source": [
    "custom = \"fuck you\"\n",
    "custom=clear_tweets(custom)\n",
    "custom=tokenize_tweets(custom)\n",
    "custom=stopword_removal(custom)\n",
    "custom=stemming_tweets(custom)\n",
    "custom=tokenize_tweets(custom)\n",
    "print(new_classifier.classify(dict([token, True] for token in custom)))"
   ]
  },
  {
   "cell_type": "code",
   "execution_count": 242,
   "id": "f76ca7da",
   "metadata": {},
   "outputs": [],
   "source": [
    "import pickle\n",
    "data={\"classifier\":new_classifier}\n",
    "with open ('saved_steps.pk1','wb') as file:\n",
    "    pickle.dump(data,file)"
   ]
  },
  {
   "cell_type": "code",
   "execution_count": 244,
   "id": "cdf18208",
   "metadata": {},
   "outputs": [
    {
     "name": "stdout",
     "output_type": "stream",
     "text": [
      "Negative\n"
     ]
    }
   ],
   "source": [
    "with open('saved_steps.pk1','rb') as file:\n",
    "    data=pickle.load(file)\n",
    "model_loaded=data['classifier']\n",
    "custom=\"fuck you\"\n",
    "custom=clear_tweets(custom)\n",
    "custom=tokenize_tweets(custom)\n",
    "custom=stopword_removal(custom)\n",
    "custom=stemming_tweets(custom)\n",
    "custom=tokenize_tweets(custom)\n",
    "print(model_loaded.classify(dict([token, True] for token in custom)))"
   ]
  },
  {
   "cell_type": "code",
   "execution_count": null,
   "id": "f2cbe256",
   "metadata": {},
   "outputs": [],
   "source": []
  }
 ],
 "metadata": {
  "kernelspec": {
   "display_name": "ml",
   "language": "python",
   "name": "ml"
  },
  "language_info": {
   "codemirror_mode": {
    "name": "ipython",
    "version": 3
   },
   "file_extension": ".py",
   "mimetype": "text/x-python",
   "name": "python",
   "nbconvert_exporter": "python",
   "pygments_lexer": "ipython3",
   "version": "3.9.1"
  }
 },
 "nbformat": 4,
 "nbformat_minor": 5
}
