{
 "cells": [
  {
   "cell_type": "code",
   "execution_count": 1,
   "id": "566bd78c",
   "metadata": {},
   "outputs": [
    {
     "name": "stderr",
     "output_type": "stream",
     "text": [
      "[nltk_data] Downloading package stopwords to C:\\Users\\Priyanshi\n",
      "[nltk_data]     Chandra\\AppData\\Roaming\\nltk_data...\n",
      "[nltk_data]   Package stopwords is already up-to-date!\n"
     ]
    }
   ],
   "source": [
    "import pandas as pd\n",
    "import numpy as np\n",
    "import matplotlib as plt\n",
    "import re\n",
    "from nltk.stem.porter import PorterStemmer\n",
    "from sklearn.feature_extraction.text import TfidfVectorizer\n",
    "import re\n",
    "import nltk\n",
    "nltk.download('stopwords')\n",
    "from sklearn import *"
   ]
  },
  {
   "cell_type": "code",
   "execution_count": 2,
   "id": "48ac2893",
   "metadata": {},
   "outputs": [],
   "source": [
    "df=pd.read_csv(\"training-models/amazon.csv\")"
   ]
  },
  {
   "cell_type": "code",
   "execution_count": 3,
   "id": "ed99bcee",
   "metadata": {},
   "outputs": [
    {
     "data": {
      "text/html": [
       "<div>\n",
       "<style scoped>\n",
       "    .dataframe tbody tr th:only-of-type {\n",
       "        vertical-align: middle;\n",
       "    }\n",
       "\n",
       "    .dataframe tbody tr th {\n",
       "        vertical-align: top;\n",
       "    }\n",
       "\n",
       "    .dataframe thead th {\n",
       "        text-align: right;\n",
       "    }\n",
       "</style>\n",
       "<table border=\"1\" class=\"dataframe\">\n",
       "  <thead>\n",
       "    <tr style=\"text-align: right;\">\n",
       "      <th></th>\n",
       "      <th>id</th>\n",
       "      <th>label</th>\n",
       "      <th>tweet</th>\n",
       "    </tr>\n",
       "  </thead>\n",
       "  <tbody>\n",
       "    <tr>\n",
       "      <th>0</th>\n",
       "      <td>1</td>\n",
       "      <td>1</td>\n",
       "      <td>Good case, Excellent value.</td>\n",
       "    </tr>\n",
       "    <tr>\n",
       "      <th>1</th>\n",
       "      <td>2</td>\n",
       "      <td>1</td>\n",
       "      <td>Great for the jawbone.</td>\n",
       "    </tr>\n",
       "    <tr>\n",
       "      <th>2</th>\n",
       "      <td>3</td>\n",
       "      <td>0</td>\n",
       "      <td>Tied to charger for conversations lasting more...</td>\n",
       "    </tr>\n",
       "    <tr>\n",
       "      <th>3</th>\n",
       "      <td>4</td>\n",
       "      <td>1</td>\n",
       "      <td>The mic is great.</td>\n",
       "    </tr>\n",
       "    <tr>\n",
       "      <th>4</th>\n",
       "      <td>5</td>\n",
       "      <td>0</td>\n",
       "      <td>I have to jiggle the plug to get it to line up...</td>\n",
       "    </tr>\n",
       "  </tbody>\n",
       "</table>\n",
       "</div>"
      ],
      "text/plain": [
       "   id  label                                              tweet\n",
       "0   1      1                        Good case, Excellent value.\n",
       "1   2      1                             Great for the jawbone.\n",
       "2   3      0  Tied to charger for conversations lasting more...\n",
       "3   4      1                                  The mic is great.\n",
       "4   5      0  I have to jiggle the plug to get it to line up..."
      ]
     },
     "execution_count": 3,
     "metadata": {},
     "output_type": "execute_result"
    }
   ],
   "source": [
    "df.head()"
   ]
  },
  {
   "cell_type": "code",
   "execution_count": 4,
   "id": "0ca4e49b",
   "metadata": {},
   "outputs": [
    {
     "data": {
      "text/plain": [
       "1    500\n",
       "0    499\n",
       "Name: label, dtype: int64"
      ]
     },
     "execution_count": 4,
     "metadata": {},
     "output_type": "execute_result"
    }
   ],
   "source": [
    "df['label'].value_counts()"
   ]
  },
  {
   "cell_type": "code",
   "execution_count": 5,
   "id": "576d211e",
   "metadata": {},
   "outputs": [],
   "source": [
    "def clear_tweets(text):\n",
    "    text=re.sub('<[^>]*>','',text)\n",
    "    emojis=re.findall('(?::|;|=)(?:-)?(?:\\)|\\(|D|P)',text)\n",
    "    text=re.sub('[\\W]+',' ',text.lower()) +' '.join(emojis).replace('-','')\n",
    "\n",
    "    return text   "
   ]
  },
  {
   "cell_type": "code",
   "execution_count": 8,
   "id": "e281eec9",
   "metadata": {},
   "outputs": [
    {
     "data": {
      "text/html": [
       "<div>\n",
       "<style scoped>\n",
       "    .dataframe tbody tr th:only-of-type {\n",
       "        vertical-align: middle;\n",
       "    }\n",
       "\n",
       "    .dataframe tbody tr th {\n",
       "        vertical-align: top;\n",
       "    }\n",
       "\n",
       "    .dataframe thead th {\n",
       "        text-align: right;\n",
       "    }\n",
       "</style>\n",
       "<table border=\"1\" class=\"dataframe\">\n",
       "  <thead>\n",
       "    <tr style=\"text-align: right;\">\n",
       "      <th></th>\n",
       "      <th>id</th>\n",
       "      <th>label</th>\n",
       "      <th>tweet</th>\n",
       "      <th>cleared_tweets</th>\n",
       "    </tr>\n",
       "  </thead>\n",
       "  <tbody>\n",
       "    <tr>\n",
       "      <th>0</th>\n",
       "      <td>1</td>\n",
       "      <td>1</td>\n",
       "      <td>Good case, Excellent value.</td>\n",
       "      <td>good case excellent value</td>\n",
       "    </tr>\n",
       "    <tr>\n",
       "      <th>1</th>\n",
       "      <td>2</td>\n",
       "      <td>1</td>\n",
       "      <td>Great for the jawbone.</td>\n",
       "      <td>great for the jawbone</td>\n",
       "    </tr>\n",
       "    <tr>\n",
       "      <th>2</th>\n",
       "      <td>3</td>\n",
       "      <td>0</td>\n",
       "      <td>Tied to charger for conversations lasting more...</td>\n",
       "      <td>tied to charger for conversations lasting more...</td>\n",
       "    </tr>\n",
       "    <tr>\n",
       "      <th>3</th>\n",
       "      <td>4</td>\n",
       "      <td>1</td>\n",
       "      <td>The mic is great.</td>\n",
       "      <td>the mic is great</td>\n",
       "    </tr>\n",
       "    <tr>\n",
       "      <th>4</th>\n",
       "      <td>5</td>\n",
       "      <td>0</td>\n",
       "      <td>I have to jiggle the plug to get it to line up...</td>\n",
       "      <td>i have to jiggle the plug to get it to line up...</td>\n",
       "    </tr>\n",
       "  </tbody>\n",
       "</table>\n",
       "</div>"
      ],
      "text/plain": [
       "   id  label                                              tweet  \\\n",
       "0   1      1                        Good case, Excellent value.   \n",
       "1   2      1                             Great for the jawbone.   \n",
       "2   3      0  Tied to charger for conversations lasting more...   \n",
       "3   4      1                                  The mic is great.   \n",
       "4   5      0  I have to jiggle the plug to get it to line up...   \n",
       "\n",
       "                                      cleared_tweets  \n",
       "0                         good case excellent value   \n",
       "1                             great for the jawbone   \n",
       "2  tied to charger for conversations lasting more...  \n",
       "3                                  the mic is great   \n",
       "4  i have to jiggle the plug to get it to line up...  "
      ]
     },
     "execution_count": 8,
     "metadata": {},
     "output_type": "execute_result"
    }
   ],
   "source": [
    "df['cleared_tweets']=df['tweet'].apply(clear_tweets)\n",
    "df.head()"
   ]
  },
  {
   "cell_type": "code",
   "execution_count": 9,
   "id": "4ba369ff",
   "metadata": {},
   "outputs": [],
   "source": [
    "def tokenize_tweets(tweet):\n",
    "    return tweet.split()"
   ]
  },
  {
   "cell_type": "code",
   "execution_count": 10,
   "id": "f329910d",
   "metadata": {},
   "outputs": [
    {
     "data": {
      "text/html": [
       "<div>\n",
       "<style scoped>\n",
       "    .dataframe tbody tr th:only-of-type {\n",
       "        vertical-align: middle;\n",
       "    }\n",
       "\n",
       "    .dataframe tbody tr th {\n",
       "        vertical-align: top;\n",
       "    }\n",
       "\n",
       "    .dataframe thead th {\n",
       "        text-align: right;\n",
       "    }\n",
       "</style>\n",
       "<table border=\"1\" class=\"dataframe\">\n",
       "  <thead>\n",
       "    <tr style=\"text-align: right;\">\n",
       "      <th></th>\n",
       "      <th>id</th>\n",
       "      <th>label</th>\n",
       "      <th>tweet</th>\n",
       "      <th>cleared_tweets</th>\n",
       "      <th>tokenized_tweets</th>\n",
       "    </tr>\n",
       "  </thead>\n",
       "  <tbody>\n",
       "    <tr>\n",
       "      <th>0</th>\n",
       "      <td>1</td>\n",
       "      <td>1</td>\n",
       "      <td>Good case, Excellent value.</td>\n",
       "      <td>good case excellent value</td>\n",
       "      <td>[good, case, excellent, value]</td>\n",
       "    </tr>\n",
       "    <tr>\n",
       "      <th>1</th>\n",
       "      <td>2</td>\n",
       "      <td>1</td>\n",
       "      <td>Great for the jawbone.</td>\n",
       "      <td>great for the jawbone</td>\n",
       "      <td>[great, for, the, jawbone]</td>\n",
       "    </tr>\n",
       "    <tr>\n",
       "      <th>2</th>\n",
       "      <td>3</td>\n",
       "      <td>0</td>\n",
       "      <td>Tied to charger for conversations lasting more...</td>\n",
       "      <td>tied to charger for conversations lasting more...</td>\n",
       "      <td>[tied, to, charger, for, conversations, lastin...</td>\n",
       "    </tr>\n",
       "    <tr>\n",
       "      <th>3</th>\n",
       "      <td>4</td>\n",
       "      <td>1</td>\n",
       "      <td>The mic is great.</td>\n",
       "      <td>the mic is great</td>\n",
       "      <td>[the, mic, is, great]</td>\n",
       "    </tr>\n",
       "    <tr>\n",
       "      <th>4</th>\n",
       "      <td>5</td>\n",
       "      <td>0</td>\n",
       "      <td>I have to jiggle the plug to get it to line up...</td>\n",
       "      <td>i have to jiggle the plug to get it to line up...</td>\n",
       "      <td>[i, have, to, jiggle, the, plug, to, get, it, ...</td>\n",
       "    </tr>\n",
       "  </tbody>\n",
       "</table>\n",
       "</div>"
      ],
      "text/plain": [
       "   id  label                                              tweet  \\\n",
       "0   1      1                        Good case, Excellent value.   \n",
       "1   2      1                             Great for the jawbone.   \n",
       "2   3      0  Tied to charger for conversations lasting more...   \n",
       "3   4      1                                  The mic is great.   \n",
       "4   5      0  I have to jiggle the plug to get it to line up...   \n",
       "\n",
       "                                      cleared_tweets  \\\n",
       "0                         good case excellent value    \n",
       "1                             great for the jawbone    \n",
       "2  tied to charger for conversations lasting more...   \n",
       "3                                  the mic is great    \n",
       "4  i have to jiggle the plug to get it to line up...   \n",
       "\n",
       "                                    tokenized_tweets  \n",
       "0                     [good, case, excellent, value]  \n",
       "1                         [great, for, the, jawbone]  \n",
       "2  [tied, to, charger, for, conversations, lastin...  \n",
       "3                              [the, mic, is, great]  \n",
       "4  [i, have, to, jiggle, the, plug, to, get, it, ...  "
      ]
     },
     "execution_count": 10,
     "metadata": {},
     "output_type": "execute_result"
    }
   ],
   "source": [
    "df['tokenized_tweets']=df['cleared_tweets'].apply(tokenize_tweets)\n",
    "df.head()"
   ]
  },
  {
   "cell_type": "code",
   "execution_count": 11,
   "id": "f2a6ebe5",
   "metadata": {},
   "outputs": [
    {
     "name": "stderr",
     "output_type": "stream",
     "text": [
      "[nltk_data] Downloading package punkt to C:\\Users\\Priyanshi\n",
      "[nltk_data]     Chandra\\AppData\\Roaming\\nltk_data...\n",
      "[nltk_data]   Package punkt is already up-to-date!\n"
     ]
    },
    {
     "data": {
      "text/plain": [
       "True"
      ]
     },
     "execution_count": 11,
     "metadata": {},
     "output_type": "execute_result"
    }
   ],
   "source": [
    "import nltk\n",
    "nltk.download('punkt')"
   ]
  },
  {
   "cell_type": "code",
   "execution_count": 13,
   "id": "7ff92358",
   "metadata": {},
   "outputs": [],
   "source": [
    "from nltk.corpus import stopwords\n",
    "stop_words = set(stopwords.words(\"english\"))"
   ]
  },
  {
   "cell_type": "code",
   "execution_count": 14,
   "id": "7a481fdf",
   "metadata": {},
   "outputs": [],
   "source": [
    "def stopword_removal(token_tweet):\n",
    "    filtered_list=[]\n",
    "    for word in token_tweet:\n",
    "            if word.casefold() not in stop_words:\n",
    "                filtered_list.append(word)\n",
    "    return filtered_list"
   ]
  },
  {
   "cell_type": "code",
   "execution_count": 19,
   "id": "b03ea6da",
   "metadata": {},
   "outputs": [
    {
     "data": {
      "text/html": [
       "<div>\n",
       "<style scoped>\n",
       "    .dataframe tbody tr th:only-of-type {\n",
       "        vertical-align: middle;\n",
       "    }\n",
       "\n",
       "    .dataframe tbody tr th {\n",
       "        vertical-align: top;\n",
       "    }\n",
       "\n",
       "    .dataframe thead th {\n",
       "        text-align: right;\n",
       "    }\n",
       "</style>\n",
       "<table border=\"1\" class=\"dataframe\">\n",
       "  <thead>\n",
       "    <tr style=\"text-align: right;\">\n",
       "      <th></th>\n",
       "      <th>id</th>\n",
       "      <th>label</th>\n",
       "      <th>tweet</th>\n",
       "      <th>cleared_tweets</th>\n",
       "      <th>tokenized_tweets</th>\n",
       "      <th>stopwords_removed</th>\n",
       "    </tr>\n",
       "  </thead>\n",
       "  <tbody>\n",
       "    <tr>\n",
       "      <th>0</th>\n",
       "      <td>1</td>\n",
       "      <td>1</td>\n",
       "      <td>Good case, Excellent value.</td>\n",
       "      <td>good case excellent value</td>\n",
       "      <td>[good, case, excellent, value]</td>\n",
       "      <td>[good, case, excellent, value]</td>\n",
       "    </tr>\n",
       "    <tr>\n",
       "      <th>1</th>\n",
       "      <td>2</td>\n",
       "      <td>1</td>\n",
       "      <td>Great for the jawbone.</td>\n",
       "      <td>great for the jawbone</td>\n",
       "      <td>[great, for, the, jawbone]</td>\n",
       "      <td>[great, jawbone]</td>\n",
       "    </tr>\n",
       "    <tr>\n",
       "      <th>2</th>\n",
       "      <td>3</td>\n",
       "      <td>0</td>\n",
       "      <td>Tied to charger for conversations lasting more...</td>\n",
       "      <td>tied to charger for conversations lasting more...</td>\n",
       "      <td>[tied, to, charger, for, conversations, lastin...</td>\n",
       "      <td>[tied, charger, conversations, lasting, 45, mi...</td>\n",
       "    </tr>\n",
       "    <tr>\n",
       "      <th>3</th>\n",
       "      <td>4</td>\n",
       "      <td>1</td>\n",
       "      <td>The mic is great.</td>\n",
       "      <td>the mic is great</td>\n",
       "      <td>[the, mic, is, great]</td>\n",
       "      <td>[mic, great]</td>\n",
       "    </tr>\n",
       "    <tr>\n",
       "      <th>4</th>\n",
       "      <td>5</td>\n",
       "      <td>0</td>\n",
       "      <td>I have to jiggle the plug to get it to line up...</td>\n",
       "      <td>i have to jiggle the plug to get it to line up...</td>\n",
       "      <td>[i, have, to, jiggle, the, plug, to, get, it, ...</td>\n",
       "      <td>[jiggle, plug, get, line, right, get, decent, ...</td>\n",
       "    </tr>\n",
       "  </tbody>\n",
       "</table>\n",
       "</div>"
      ],
      "text/plain": [
       "   id  label                                              tweet  \\\n",
       "0   1      1                        Good case, Excellent value.   \n",
       "1   2      1                             Great for the jawbone.   \n",
       "2   3      0  Tied to charger for conversations lasting more...   \n",
       "3   4      1                                  The mic is great.   \n",
       "4   5      0  I have to jiggle the plug to get it to line up...   \n",
       "\n",
       "                                      cleared_tweets  \\\n",
       "0                         good case excellent value    \n",
       "1                             great for the jawbone    \n",
       "2  tied to charger for conversations lasting more...   \n",
       "3                                  the mic is great    \n",
       "4  i have to jiggle the plug to get it to line up...   \n",
       "\n",
       "                                    tokenized_tweets  \\\n",
       "0                     [good, case, excellent, value]   \n",
       "1                         [great, for, the, jawbone]   \n",
       "2  [tied, to, charger, for, conversations, lastin...   \n",
       "3                              [the, mic, is, great]   \n",
       "4  [i, have, to, jiggle, the, plug, to, get, it, ...   \n",
       "\n",
       "                                   stopwords_removed  \n",
       "0                     [good, case, excellent, value]  \n",
       "1                                   [great, jawbone]  \n",
       "2  [tied, charger, conversations, lasting, 45, mi...  \n",
       "3                                       [mic, great]  \n",
       "4  [jiggle, plug, get, line, right, get, decent, ...  "
      ]
     },
     "execution_count": 19,
     "metadata": {},
     "output_type": "execute_result"
    }
   ],
   "source": [
    "df['stopwords_removed']=df['tokenized_tweets'].apply(stopword_removal)\n",
    "df.head()"
   ]
  },
  {
   "cell_type": "code",
   "execution_count": 20,
   "id": "316e17ea",
   "metadata": {},
   "outputs": [],
   "source": [
    "stemmer = PorterStemmer()"
   ]
  },
  {
   "cell_type": "code",
   "execution_count": 26,
   "id": "95c996ee",
   "metadata": {},
   "outputs": [],
   "source": [
    "def stemming_tweets(tweet):\n",
    "    stemmed_words = [stemmer.stem(word) for word in tweet]\n",
    "    joined_str=\"\"\n",
    "    for word in stemmed_words:\n",
    "        joined_str=joined_str+\" \"+word\n",
    "    return joined_str"
   ]
  },
  {
   "cell_type": "code",
   "execution_count": 29,
   "id": "f19e874e",
   "metadata": {},
   "outputs": [
    {
     "data": {
      "text/html": [
       "<div>\n",
       "<style scoped>\n",
       "    .dataframe tbody tr th:only-of-type {\n",
       "        vertical-align: middle;\n",
       "    }\n",
       "\n",
       "    .dataframe tbody tr th {\n",
       "        vertical-align: top;\n",
       "    }\n",
       "\n",
       "    .dataframe thead th {\n",
       "        text-align: right;\n",
       "    }\n",
       "</style>\n",
       "<table border=\"1\" class=\"dataframe\">\n",
       "  <thead>\n",
       "    <tr style=\"text-align: right;\">\n",
       "      <th></th>\n",
       "      <th>id</th>\n",
       "      <th>label</th>\n",
       "      <th>tweet</th>\n",
       "      <th>cleared_tweets</th>\n",
       "      <th>tokenized_tweets</th>\n",
       "      <th>stopwords_removed</th>\n",
       "      <th>stemmed_tweets</th>\n",
       "    </tr>\n",
       "  </thead>\n",
       "  <tbody>\n",
       "    <tr>\n",
       "      <th>0</th>\n",
       "      <td>1</td>\n",
       "      <td>1</td>\n",
       "      <td>Good case, Excellent value.</td>\n",
       "      <td>good case excellent value</td>\n",
       "      <td>[good, case, excellent, value]</td>\n",
       "      <td>[good, case, excellent, value]</td>\n",
       "      <td>good case excel valu</td>\n",
       "    </tr>\n",
       "    <tr>\n",
       "      <th>1</th>\n",
       "      <td>2</td>\n",
       "      <td>1</td>\n",
       "      <td>Great for the jawbone.</td>\n",
       "      <td>great for the jawbone</td>\n",
       "      <td>[great, for, the, jawbone]</td>\n",
       "      <td>[great, jawbone]</td>\n",
       "      <td>great jawbon</td>\n",
       "    </tr>\n",
       "    <tr>\n",
       "      <th>2</th>\n",
       "      <td>3</td>\n",
       "      <td>0</td>\n",
       "      <td>Tied to charger for conversations lasting more...</td>\n",
       "      <td>tied to charger for conversations lasting more...</td>\n",
       "      <td>[tied, to, charger, for, conversations, lastin...</td>\n",
       "      <td>[tied, charger, conversations, lasting, 45, mi...</td>\n",
       "      <td>tie charger convers last 45 minut major problem</td>\n",
       "    </tr>\n",
       "    <tr>\n",
       "      <th>3</th>\n",
       "      <td>4</td>\n",
       "      <td>1</td>\n",
       "      <td>The mic is great.</td>\n",
       "      <td>the mic is great</td>\n",
       "      <td>[the, mic, is, great]</td>\n",
       "      <td>[mic, great]</td>\n",
       "      <td>mic great</td>\n",
       "    </tr>\n",
       "    <tr>\n",
       "      <th>4</th>\n",
       "      <td>5</td>\n",
       "      <td>0</td>\n",
       "      <td>I have to jiggle the plug to get it to line up...</td>\n",
       "      <td>i have to jiggle the plug to get it to line up...</td>\n",
       "      <td>[i, have, to, jiggle, the, plug, to, get, it, ...</td>\n",
       "      <td>[jiggle, plug, get, line, right, get, decent, ...</td>\n",
       "      <td>jiggl plug get line right get decent volum</td>\n",
       "    </tr>\n",
       "  </tbody>\n",
       "</table>\n",
       "</div>"
      ],
      "text/plain": [
       "   id  label                                              tweet  \\\n",
       "0   1      1                        Good case, Excellent value.   \n",
       "1   2      1                             Great for the jawbone.   \n",
       "2   3      0  Tied to charger for conversations lasting more...   \n",
       "3   4      1                                  The mic is great.   \n",
       "4   5      0  I have to jiggle the plug to get it to line up...   \n",
       "\n",
       "                                      cleared_tweets  \\\n",
       "0                         good case excellent value    \n",
       "1                             great for the jawbone    \n",
       "2  tied to charger for conversations lasting more...   \n",
       "3                                  the mic is great    \n",
       "4  i have to jiggle the plug to get it to line up...   \n",
       "\n",
       "                                    tokenized_tweets  \\\n",
       "0                     [good, case, excellent, value]   \n",
       "1                         [great, for, the, jawbone]   \n",
       "2  [tied, to, charger, for, conversations, lastin...   \n",
       "3                              [the, mic, is, great]   \n",
       "4  [i, have, to, jiggle, the, plug, to, get, it, ...   \n",
       "\n",
       "                                   stopwords_removed  \\\n",
       "0                     [good, case, excellent, value]   \n",
       "1                                   [great, jawbone]   \n",
       "2  [tied, charger, conversations, lasting, 45, mi...   \n",
       "3                                       [mic, great]   \n",
       "4  [jiggle, plug, get, line, right, get, decent, ...   \n",
       "\n",
       "                                     stemmed_tweets  \n",
       "0                              good case excel valu  \n",
       "1                                      great jawbon  \n",
       "2   tie charger convers last 45 minut major problem  \n",
       "3                                         mic great  \n",
       "4        jiggl plug get line right get decent volum  "
      ]
     },
     "execution_count": 29,
     "metadata": {},
     "output_type": "execute_result"
    }
   ],
   "source": [
    "df['stemmed_tweets']=df['stopwords_removed'].apply(stemming_tweets)\n",
    "df.head()"
   ]
  },
  {
   "cell_type": "markdown",
   "id": "dc44b277",
   "metadata": {},
   "source": [
    "### Trying out new method"
   ]
  },
  {
   "cell_type": "code",
   "execution_count": 149,
   "id": "a6702226",
   "metadata": {},
   "outputs": [],
   "source": [
    "def get_tweets_for_model(cleaned_tokens_list):\n",
    "    for tweet_tokens in cleaned_tokens_list:\n",
    "        yield dict([token, True] for token in tweet_tokens)\n",
    "\n",
    "\n"
   ]
  },
  {
   "cell_type": "code",
   "execution_count": 150,
   "id": "f4b98fce",
   "metadata": {},
   "outputs": [],
   "source": [
    "# tweet_list = list(df['stemmed_tweets'].apply(tokenize_tweets))\n",
    "# print(type(tweet_list))\n",
    "# tokens_for_model = get_tweets_for_model(tweet_list)\n",
    "\n",
    "pos_tweet_list=list(df['stemmed_tweets'][df['label']==1].apply(tokenize_tweets))\n",
    "neg_tweet_list=list(df['stemmed_tweets'][df['label']==0].apply(tokenize_tweets))\n",
    "\n",
    "pos_tokens = get_tweets_for_model(pos_tweet_list)\n",
    "neg_tokens = get_tweets_for_model(neg_tweet_list)\n"
   ]
  },
  {
   "cell_type": "code",
   "execution_count": 151,
   "id": "ad469a8d",
   "metadata": {},
   "outputs": [],
   "source": [
    "positive_dataset = [(tweet_dict, \"Positive\")\n",
    "                     for tweet_dict in pos_tokens]\n",
    "\n",
    "negative_dataset = [(tweet_dict, \"Negative\")\n",
    "                     for tweet_dict in neg_tokens]\n",
    "\n",
    "dataset = positive_dataset + negative_dataset\n"
   ]
  },
  {
   "cell_type": "code",
   "execution_count": 152,
   "id": "1ab36914",
   "metadata": {},
   "outputs": [],
   "source": [
    "import random\n",
    "random.shuffle(dataset)"
   ]
  },
  {
   "cell_type": "code",
   "execution_count": 153,
   "id": "f685e72b",
   "metadata": {},
   "outputs": [],
   "source": [
    "train_data = dataset[:799]\n",
    "test_data = dataset[800:]"
   ]
  },
  {
   "cell_type": "code",
   "execution_count": 154,
   "id": "88260838",
   "metadata": {},
   "outputs": [
    {
     "name": "stdout",
     "output_type": "stream",
     "text": [
      "Accuracy is: 0.7688442211055276\n"
     ]
    }
   ],
   "source": [
    "from nltk import classify\n",
    "from nltk import NaiveBayesClassifier\n",
    "classifier = NaiveBayesClassifier.train(train_data)\n",
    "\n",
    "print(\"Accuracy is:\", classify.accuracy(classifier, test_data))\n",
    "\n"
   ]
  },
  {
   "cell_type": "code",
   "execution_count": 160,
   "id": "407de48e",
   "metadata": {},
   "outputs": [
    {
     "name": "stdout",
     "output_type": "stream",
     "text": [
      "Positive\n"
     ]
    }
   ],
   "source": [
    "custom = \"Happy girls are prettiest and good\"\n",
    "custom=clear_tweets(custom)\n",
    "custom=tokenize_tweets(custom)\n",
    "custom=stopword_removal(custom)\n",
    "custom=stemming_tweets(custom)\n",
    "custom=tokenize_tweets(custom)\n",
    "print(classifier.classify(dict([token, True] for token in custom)))"
   ]
  },
  {
   "cell_type": "code",
   "execution_count": 162,
   "id": "737f1ffa",
   "metadata": {},
   "outputs": [],
   "source": [
    "import pickle\n",
    "data={\"classifier\":classifier}\n",
    "with open ('saved_steps_new.pk1','wb') as file:\n",
    "    pickle.dump(data,file)"
   ]
  },
  {
   "cell_type": "code",
   "execution_count": 163,
   "id": "2a310faf",
   "metadata": {},
   "outputs": [
    {
     "name": "stdout",
     "output_type": "stream",
     "text": [
      "Negative\n"
     ]
    }
   ],
   "source": [
    "with open('saved_steps_new.pk1','rb') as file:\n",
    "    data=pickle.load(file)\n",
    "model_loaded=data['classifier']\n",
    "custom=\"This is so ugly. It is so bad remove it please\"\n",
    "custom=clear_tweets(custom)\n",
    "custom=tokenize_tweets(custom)\n",
    "custom=stopword_removal(custom)\n",
    "custom=stemming_tweets(custom)\n",
    "custom=tokenize_tweets(custom)\n",
    "print(model_loaded.classify(dict([token, True] for token in custom)))"
   ]
  },
  {
   "cell_type": "markdown",
   "id": "2bc17fbb",
   "metadata": {},
   "source": [
    "### Yelp, Amazon, IMDB data combined"
   ]
  },
  {
   "cell_type": "code",
   "execution_count": 308,
   "id": "197d3f44",
   "metadata": {},
   "outputs": [
    {
     "data": {
      "text/html": [
       "<div>\n",
       "<style scoped>\n",
       "    .dataframe tbody tr th:only-of-type {\n",
       "        vertical-align: middle;\n",
       "    }\n",
       "\n",
       "    .dataframe tbody tr th {\n",
       "        vertical-align: top;\n",
       "    }\n",
       "\n",
       "    .dataframe thead th {\n",
       "        text-align: right;\n",
       "    }\n",
       "</style>\n",
       "<table border=\"1\" class=\"dataframe\">\n",
       "  <thead>\n",
       "    <tr style=\"text-align: right;\">\n",
       "      <th></th>\n",
       "      <th>id</th>\n",
       "      <th>label</th>\n",
       "      <th>tweet</th>\n",
       "    </tr>\n",
       "  </thead>\n",
       "  <tbody>\n",
       "    <tr>\n",
       "      <th>0</th>\n",
       "      <td>1</td>\n",
       "      <td>0</td>\n",
       "      <td>Crust is not good.</td>\n",
       "    </tr>\n",
       "    <tr>\n",
       "      <th>1</th>\n",
       "      <td>2</td>\n",
       "      <td>0</td>\n",
       "      <td>Not tasty and the texture was just nasty.</td>\n",
       "    </tr>\n",
       "    <tr>\n",
       "      <th>2</th>\n",
       "      <td>3</td>\n",
       "      <td>1</td>\n",
       "      <td>Stopped by during the late May bank holiday of...</td>\n",
       "    </tr>\n",
       "    <tr>\n",
       "      <th>3</th>\n",
       "      <td>4</td>\n",
       "      <td>1</td>\n",
       "      <td>The selection on the menu was great and so wer...</td>\n",
       "    </tr>\n",
       "    <tr>\n",
       "      <th>4</th>\n",
       "      <td>5</td>\n",
       "      <td>0</td>\n",
       "      <td>Now I am getting angry and I want my damn pho.</td>\n",
       "    </tr>\n",
       "  </tbody>\n",
       "</table>\n",
       "</div>"
      ],
      "text/plain": [
       "   id  label                                              tweet\n",
       "0   1      0                                 Crust is not good.\n",
       "1   2      0          Not tasty and the texture was just nasty.\n",
       "2   3      1  Stopped by during the late May bank holiday of...\n",
       "3   4      1  The selection on the menu was great and so wer...\n",
       "4   5      0     Now I am getting angry and I want my damn pho."
      ]
     },
     "execution_count": 308,
     "metadata": {},
     "output_type": "execute_result"
    }
   ],
   "source": [
    "yelp=pd.read_csv(\"training-models/yelp.csv\")\n",
    "amazon=pd.read_csv(\"training-models/amazon.csv\")\n",
    "yelp.head()"
   ]
  },
  {
   "cell_type": "code",
   "execution_count": 309,
   "id": "6392d51f",
   "metadata": {},
   "outputs": [],
   "source": [
    "new_dataset=amazon.append(yelp)"
   ]
  },
  {
   "cell_type": "code",
   "execution_count": 310,
   "id": "b0a3f23b",
   "metadata": {},
   "outputs": [],
   "source": [
    "imdb=pd.read_csv(\"training-models/imdb.csv\")\n",
    "imdb.head()\n",
    "def convert_int(text):\n",
    "    return int(text)\n",
    "\n",
    "imdb['label']=imdb['label'].apply(convert_int)"
   ]
  },
  {
   "cell_type": "code",
   "execution_count": 311,
   "id": "1fe12332",
   "metadata": {},
   "outputs": [],
   "source": [
    "new_dataset=new_dataset.append(imdb)"
   ]
  },
  {
   "cell_type": "code",
   "execution_count": 312,
   "id": "db69dd92",
   "metadata": {},
   "outputs": [],
   "source": [
    "new_dataset['label'].value_counts()\n",
    "\n",
    "new_dataset.loc[len(new_dataset.index)] = [1000, 0, 'shut up you dumb idiot'] \n",
    "new_dataset.loc[len(new_dataset.index)] = [1001, 0, 'fuck you dumb fucking idiot']\n",
    "new_dataset.loc[len(new_dataset.index)] = [1002, 0, 'ew get lost and dont come here ever again']\n",
    "text='you are a sweet angel'\n",
    "label_new=1\n",
    "\n",
    "new_dataset.loc[len(new_dataset.index)] = [(new_dataset.tail(1).id.values[0]+1), label_new, text]\n",
    "text='looking like angel'\n",
    "label_new=1\n",
    "\n",
    "new_dataset.loc[len(new_dataset.index)] = [(new_dataset.tail(1).id.values[0]+1), label_new, text]\n",
    "\n",
    "text='lovely like angel'\n",
    "label_new=1\n",
    "\n",
    "new_dataset.loc[len(new_dataset.index)] = [(new_dataset.tail(1).id.values[0]+1), label_new, text]\n",
    "text='angelic eyes so pretty'\n",
    "label_new=1\n",
    "\n",
    "new_dataset.loc[len(new_dataset.index)] = [(new_dataset.tail(1).id.values[0]+1), label_new, text]\n"
   ]
  },
  {
   "cell_type": "code",
   "execution_count": 313,
   "id": "9787fe22",
   "metadata": {},
   "outputs": [
    {
     "data": {
      "text/plain": [
       "1    1503\n",
       "0    1501\n",
       "Name: label, dtype: int64"
      ]
     },
     "execution_count": 313,
     "metadata": {},
     "output_type": "execute_result"
    }
   ],
   "source": [
    "new_dataset['label'].value_counts()"
   ]
  },
  {
   "cell_type": "code",
   "execution_count": 314,
   "id": "7554e1d2",
   "metadata": {},
   "outputs": [
    {
     "data": {
      "text/html": [
       "<div>\n",
       "<style scoped>\n",
       "    .dataframe tbody tr th:only-of-type {\n",
       "        vertical-align: middle;\n",
       "    }\n",
       "\n",
       "    .dataframe tbody tr th {\n",
       "        vertical-align: top;\n",
       "    }\n",
       "\n",
       "    .dataframe thead th {\n",
       "        text-align: right;\n",
       "    }\n",
       "</style>\n",
       "<table border=\"1\" class=\"dataframe\">\n",
       "  <thead>\n",
       "    <tr style=\"text-align: right;\">\n",
       "      <th></th>\n",
       "      <th>id</th>\n",
       "      <th>label</th>\n",
       "      <th>tweet</th>\n",
       "    </tr>\n",
       "  </thead>\n",
       "  <tbody>\n",
       "    <tr>\n",
       "      <th>2999</th>\n",
       "      <td>1002</td>\n",
       "      <td>0</td>\n",
       "      <td>ew get lost and dont come here ever again</td>\n",
       "    </tr>\n",
       "    <tr>\n",
       "      <th>3000</th>\n",
       "      <td>1003</td>\n",
       "      <td>1</td>\n",
       "      <td>you are a sweet angel</td>\n",
       "    </tr>\n",
       "    <tr>\n",
       "      <th>3001</th>\n",
       "      <td>1004</td>\n",
       "      <td>1</td>\n",
       "      <td>looking like angel</td>\n",
       "    </tr>\n",
       "    <tr>\n",
       "      <th>3002</th>\n",
       "      <td>1005</td>\n",
       "      <td>1</td>\n",
       "      <td>lovely like angel</td>\n",
       "    </tr>\n",
       "    <tr>\n",
       "      <th>3003</th>\n",
       "      <td>1006</td>\n",
       "      <td>1</td>\n",
       "      <td>angelic eyes so pretty</td>\n",
       "    </tr>\n",
       "  </tbody>\n",
       "</table>\n",
       "</div>"
      ],
      "text/plain": [
       "        id  label                                      tweet\n",
       "2999  1002      0  ew get lost and dont come here ever again\n",
       "3000  1003      1                      you are a sweet angel\n",
       "3001  1004      1                         looking like angel\n",
       "3002  1005      1                          lovely like angel\n",
       "3003  1006      1                     angelic eyes so pretty"
      ]
     },
     "execution_count": 314,
     "metadata": {},
     "output_type": "execute_result"
    }
   ],
   "source": [
    "new_dataset.tail()"
   ]
  },
  {
   "cell_type": "code",
   "execution_count": 315,
   "id": "e6825f70",
   "metadata": {},
   "outputs": [],
   "source": [
    "new_dataset['cleared_tweets']=new_dataset['tweet'].apply(clear_tweets)\n",
    "\n",
    "new_dataset['tokenized_tweets']=new_dataset['cleared_tweets'].apply(tokenize_tweets)\n",
    "\n",
    "new_dataset['stopwords_removed']=new_dataset['tokenized_tweets'].apply(stopword_removal)\n",
    "\n",
    "new_dataset['stemmed_tweets']=new_dataset['stopwords_removed'].apply(stemming_tweets)\n"
   ]
  },
  {
   "cell_type": "code",
   "execution_count": 316,
   "id": "b8441a43",
   "metadata": {},
   "outputs": [],
   "source": [
    "# tweet_list = list(df['stemmed_tweets'].apply(tokenize_tweets))\n",
    "# print(type(tweet_list))\n",
    "# tokens_for_model = get_tweets_for_model(tweet_list)\n",
    "\n",
    "pos_tweet_list=list(new_dataset['stemmed_tweets'][new_dataset['label']==1].apply(tokenize_tweets))\n",
    "neg_tweet_list=list(new_dataset['stemmed_tweets'][new_dataset['label']==0].apply(tokenize_tweets))\n",
    "\n",
    "pos_tokens = get_tweets_for_model(pos_tweet_list)\n",
    "neg_tokens = get_tweets_for_model(neg_tweet_list)\n"
   ]
  },
  {
   "cell_type": "code",
   "execution_count": 317,
   "id": "6c568803",
   "metadata": {},
   "outputs": [],
   "source": [
    "positive_dataset = [(tweet_dict, \"Positive\")\n",
    "                     for tweet_dict in pos_tokens]\n",
    "\n",
    "negative_dataset = [(tweet_dict, \"Negative\")\n",
    "                     for tweet_dict in neg_tokens]\n",
    "\n",
    "dataset = positive_dataset + negative_dataset\n"
   ]
  },
  {
   "cell_type": "code",
   "execution_count": 318,
   "id": "e3f15aad",
   "metadata": {},
   "outputs": [
    {
     "name": "stdout",
     "output_type": "stream",
     "text": [
      "Accuracy is: 0.9324234354194407\n"
     ]
    }
   ],
   "source": [
    "\n",
    "from nltk import classify\n",
    "from nltk import NaiveBayesClassifier\n",
    "new_classifier = NaiveBayesClassifier.train(dataset)\n",
    "\n",
    "print(\"Accuracy is:\", classify.accuracy(new_classifier, dataset))\n",
    "\n"
   ]
  },
  {
   "cell_type": "code",
   "execution_count": 319,
   "id": "2b8abf93",
   "metadata": {},
   "outputs": [
    {
     "name": "stdout",
     "output_type": "stream",
     "text": [
      "Negative\n"
     ]
    }
   ],
   "source": [
    "custom = \"fuck you\"\n",
    "custom=clear_tweets(custom)\n",
    "custom=tokenize_tweets(custom)\n",
    "custom=stopword_removal(custom)\n",
    "custom=stemming_tweets(custom)\n",
    "custom=tokenize_tweets(custom)\n",
    "print(new_classifier.classify(dict([token, True] for token in custom)))"
   ]
  },
  {
   "cell_type": "code",
   "execution_count": 320,
   "id": "7a1ca08c",
   "metadata": {},
   "outputs": [],
   "source": [
    "import pickle\n",
    "data={\"classifier\":new_classifier}\n",
    "with open ('saved_steps.pk1','wb') as file:\n",
    "    pickle.dump(data,file)"
   ]
  },
  {
   "cell_type": "code",
   "execution_count": 321,
   "id": "3eb1a7e0",
   "metadata": {},
   "outputs": [
    {
     "name": "stdout",
     "output_type": "stream",
     "text": [
      "Positive\n"
     ]
    }
   ],
   "source": [
    "with open('saved_steps.pk1','rb') as file:\n",
    "    data=pickle.load(file)\n",
    "model_loaded=data['classifier']\n",
    "custom=\"looking like angel\"\n",
    "custom=clear_tweets(custom)\n",
    "custom=tokenize_tweets(custom)\n",
    "custom=stopword_removal(custom)\n",
    "custom=stemming_tweets(custom)\n",
    "custom=tokenize_tweets(custom)\n",
    "print(model_loaded.classify(dict([token, True] for token in custom)))"
   ]
  },
  {
   "cell_type": "code",
   "execution_count": 322,
   "id": "b38161ef",
   "metadata": {
    "scrolled": true
   },
   "outputs": [
    {
     "data": {
      "text/html": [
       "<div>\n",
       "<style scoped>\n",
       "    .dataframe tbody tr th:only-of-type {\n",
       "        vertical-align: middle;\n",
       "    }\n",
       "\n",
       "    .dataframe tbody tr th {\n",
       "        vertical-align: top;\n",
       "    }\n",
       "\n",
       "    .dataframe thead th {\n",
       "        text-align: right;\n",
       "    }\n",
       "</style>\n",
       "<table border=\"1\" class=\"dataframe\">\n",
       "  <thead>\n",
       "    <tr style=\"text-align: right;\">\n",
       "      <th></th>\n",
       "      <th>id</th>\n",
       "      <th>label</th>\n",
       "      <th>tweet</th>\n",
       "      <th>cleared_tweets</th>\n",
       "      <th>tokenized_tweets</th>\n",
       "      <th>stopwords_removed</th>\n",
       "      <th>stemmed_tweets</th>\n",
       "    </tr>\n",
       "  </thead>\n",
       "  <tbody>\n",
       "    <tr>\n",
       "      <th>2999</th>\n",
       "      <td>1002</td>\n",
       "      <td>0</td>\n",
       "      <td>ew get lost and dont come here ever again</td>\n",
       "      <td>ew get lost and dont come here ever again</td>\n",
       "      <td>[ew, get, lost, and, dont, come, here, ever, a...</td>\n",
       "      <td>[ew, get, lost, dont, come, ever]</td>\n",
       "      <td>ew get lost dont come ever</td>\n",
       "    </tr>\n",
       "    <tr>\n",
       "      <th>3000</th>\n",
       "      <td>1003</td>\n",
       "      <td>1</td>\n",
       "      <td>you are a sweet angel</td>\n",
       "      <td>you are a sweet angel</td>\n",
       "      <td>[you, are, a, sweet, angel]</td>\n",
       "      <td>[sweet, angel]</td>\n",
       "      <td>sweet angel</td>\n",
       "    </tr>\n",
       "    <tr>\n",
       "      <th>3001</th>\n",
       "      <td>1004</td>\n",
       "      <td>1</td>\n",
       "      <td>looking like angel</td>\n",
       "      <td>looking like angel</td>\n",
       "      <td>[looking, like, angel]</td>\n",
       "      <td>[looking, like, angel]</td>\n",
       "      <td>look like angel</td>\n",
       "    </tr>\n",
       "    <tr>\n",
       "      <th>3002</th>\n",
       "      <td>1005</td>\n",
       "      <td>1</td>\n",
       "      <td>lovely like angel</td>\n",
       "      <td>lovely like angel</td>\n",
       "      <td>[lovely, like, angel]</td>\n",
       "      <td>[lovely, like, angel]</td>\n",
       "      <td>love like angel</td>\n",
       "    </tr>\n",
       "    <tr>\n",
       "      <th>3003</th>\n",
       "      <td>1006</td>\n",
       "      <td>1</td>\n",
       "      <td>angelic eyes so pretty</td>\n",
       "      <td>angelic eyes so pretty</td>\n",
       "      <td>[angelic, eyes, so, pretty]</td>\n",
       "      <td>[angelic, eyes, pretty]</td>\n",
       "      <td>angel eye pretti</td>\n",
       "    </tr>\n",
       "  </tbody>\n",
       "</table>\n",
       "</div>"
      ],
      "text/plain": [
       "        id  label                                      tweet  \\\n",
       "2999  1002      0  ew get lost and dont come here ever again   \n",
       "3000  1003      1                      you are a sweet angel   \n",
       "3001  1004      1                         looking like angel   \n",
       "3002  1005      1                          lovely like angel   \n",
       "3003  1006      1                     angelic eyes so pretty   \n",
       "\n",
       "                                 cleared_tweets  \\\n",
       "2999  ew get lost and dont come here ever again   \n",
       "3000                      you are a sweet angel   \n",
       "3001                         looking like angel   \n",
       "3002                          lovely like angel   \n",
       "3003                     angelic eyes so pretty   \n",
       "\n",
       "                                       tokenized_tweets  \\\n",
       "2999  [ew, get, lost, and, dont, come, here, ever, a...   \n",
       "3000                        [you, are, a, sweet, angel]   \n",
       "3001                             [looking, like, angel]   \n",
       "3002                              [lovely, like, angel]   \n",
       "3003                        [angelic, eyes, so, pretty]   \n",
       "\n",
       "                      stopwords_removed               stemmed_tweets  \n",
       "2999  [ew, get, lost, dont, come, ever]   ew get lost dont come ever  \n",
       "3000                     [sweet, angel]                  sweet angel  \n",
       "3001             [looking, like, angel]              look like angel  \n",
       "3002              [lovely, like, angel]              love like angel  \n",
       "3003            [angelic, eyes, pretty]             angel eye pretti  "
      ]
     },
     "execution_count": 322,
     "metadata": {},
     "output_type": "execute_result"
    }
   ],
   "source": [
    "new_dataset.tail()"
   ]
  },
  {
   "cell_type": "code",
   "execution_count": null,
   "id": "9b0809b1",
   "metadata": {},
   "outputs": [],
   "source": []
  }
 ],
 "metadata": {
  "kernelspec": {
   "display_name": "ml",
   "language": "python",
   "name": "ml"
  },
  "language_info": {
   "codemirror_mode": {
    "name": "ipython",
    "version": 3
   },
   "file_extension": ".py",
   "mimetype": "text/x-python",
   "name": "python",
   "nbconvert_exporter": "python",
   "pygments_lexer": "ipython3",
   "version": "3.9.1"
  }
 },
 "nbformat": 4,
 "nbformat_minor": 5
}
