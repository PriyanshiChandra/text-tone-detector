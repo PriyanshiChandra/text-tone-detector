{
 "cells": [
  {
   "cell_type": "code",
   "execution_count": 5,
   "metadata": {
    "_cell_guid": "b1076dfc-b9ad-4769-8c92-a6c4dae69d19",
    "_uuid": "8f2839f25d086af736a60e9eeb907d3b93b6e0e5",
    "execution": {
     "iopub.execute_input": "2021-06-20T07:24:39.632841Z",
     "iopub.status.busy": "2021-06-20T07:24:39.632452Z",
     "iopub.status.idle": "2021-06-20T07:24:39.647774Z",
     "shell.execute_reply": "2021-06-20T07:24:39.646643Z",
     "shell.execute_reply.started": "2021-06-20T07:24:39.632809Z"
    }
   },
   "outputs": [
    {
     "name": "stdout",
     "output_type": "stream",
     "text": [
      "/kaggle/input/twitter-sentiment-analysis-hatred-speech/train.csv\n",
      "/kaggle/input/twitter-sentiment-analysis-hatred-speech/test.csv\n"
     ]
    }
   ],
   "source": [
    "# This Python 3 environment comes with many helpful analytics libraries installed\n",
    "# It is defined by the kaggle/python Docker image: https://github.com/kaggle/docker-python\n",
    "# For example, here's several helpful packages to load\n",
    "\n",
    "import numpy as np # linear algebra\n",
    "import pandas as pd # data processing, CSV file I/O (e.g. pd.read_csv)\n",
    "\n",
    "# Input data files are available in the read-only \"../input/\" directory\n",
    "# For example, running this (by clicking run or pressing Shift+Enter) will list all files under the input directory\n",
    "\n",
    "import os\n",
    "for dirname, _, filenames in os.walk('/kaggle/input'):\n",
    "    for filename in filenames:\n",
    "        print(os.path.join(dirname, filename))\n",
    "\n",
    "# You can write up to 20GB to the current directory (/kaggle/working/) that gets preserved as output when you create a version using \"Save & Run All\" \n",
    "# You can also write temporary files to /kaggle/temp/, but they won't be saved outside of the current session"
   ]
  },
  {
   "cell_type": "code",
   "execution_count": 1,
   "metadata": {
    "execution": {
     "iopub.execute_input": "2021-06-20T09:32:52.667306Z",
     "iopub.status.busy": "2021-06-20T09:32:52.666740Z",
     "iopub.status.idle": "2021-06-20T09:32:53.141418Z",
     "shell.execute_reply": "2021-06-20T09:32:53.140401Z",
     "shell.execute_reply.started": "2021-06-20T09:32:52.667273Z"
    }
   },
   "outputs": [
    {
     "name": "stderr",
     "output_type": "stream",
     "text": [
      "[nltk_data] Downloading package stopwords to C:\\Users\\Priyanshi\n",
      "[nltk_data]     Chandra\\AppData\\Roaming\\nltk_data...\n",
      "[nltk_data]   Package stopwords is already up-to-date!\n"
     ]
    }
   ],
   "source": [
    "import pandas as pd\n",
    "import numpy as np\n",
    "import matplotlib as plt\n",
    "import re\n",
    "from nltk.stem.porter import PorterStemmer\n",
    "from sklearn.feature_extraction.text import TfidfVectorizer\n",
    "import re\n",
    "import nltk\n",
    "nltk.download('stopwords')\n",
    "from sklearn import *"
   ]
  },
  {
   "cell_type": "code",
   "execution_count": 2,
   "metadata": {
    "execution": {
     "iopub.execute_input": "2021-06-20T09:32:58.886419Z",
     "iopub.status.busy": "2021-06-20T09:32:58.885836Z",
     "iopub.status.idle": "2021-06-20T09:32:58.949508Z",
     "shell.execute_reply": "2021-06-20T09:32:58.948537Z",
     "shell.execute_reply.started": "2021-06-20T09:32:58.886367Z"
    }
   },
   "outputs": [
    {
     "data": {
      "text/html": [
       "<div>\n",
       "<style scoped>\n",
       "    .dataframe tbody tr th:only-of-type {\n",
       "        vertical-align: middle;\n",
       "    }\n",
       "\n",
       "    .dataframe tbody tr th {\n",
       "        vertical-align: top;\n",
       "    }\n",
       "\n",
       "    .dataframe thead th {\n",
       "        text-align: right;\n",
       "    }\n",
       "</style>\n",
       "<table border=\"1\" class=\"dataframe\">\n",
       "  <thead>\n",
       "    <tr style=\"text-align: right;\">\n",
       "      <th></th>\n",
       "      <th>id</th>\n",
       "      <th>label</th>\n",
       "      <th>tweet</th>\n",
       "    </tr>\n",
       "  </thead>\n",
       "  <tbody>\n",
       "    <tr>\n",
       "      <th>0</th>\n",
       "      <td>1</td>\n",
       "      <td>0</td>\n",
       "      <td>@user when a father is dysfunctional and is s...</td>\n",
       "    </tr>\n",
       "    <tr>\n",
       "      <th>1</th>\n",
       "      <td>2</td>\n",
       "      <td>0</td>\n",
       "      <td>@user @user thanks for #lyft credit i can't us...</td>\n",
       "    </tr>\n",
       "    <tr>\n",
       "      <th>2</th>\n",
       "      <td>3</td>\n",
       "      <td>0</td>\n",
       "      <td>bihday your majesty</td>\n",
       "    </tr>\n",
       "    <tr>\n",
       "      <th>3</th>\n",
       "      <td>4</td>\n",
       "      <td>0</td>\n",
       "      <td>#model   i love u take with u all the time in ...</td>\n",
       "    </tr>\n",
       "    <tr>\n",
       "      <th>4</th>\n",
       "      <td>5</td>\n",
       "      <td>0</td>\n",
       "      <td>factsguide: society now    #motivation</td>\n",
       "    </tr>\n",
       "  </tbody>\n",
       "</table>\n",
       "</div>"
      ],
      "text/plain": [
       "   id  label                                              tweet\n",
       "0   1      0   @user when a father is dysfunctional and is s...\n",
       "1   2      0  @user @user thanks for #lyft credit i can't us...\n",
       "2   3      0                                bihday your majesty\n",
       "3   4      0  #model   i love u take with u all the time in ...\n",
       "4   5      0             factsguide: society now    #motivation"
      ]
     },
     "execution_count": 2,
     "metadata": {},
     "output_type": "execute_result"
    }
   ],
   "source": [
    "df_train=pd.read_csv(\"train.csv\")\n",
    "df_train.head()"
   ]
  },
  {
   "cell_type": "code",
   "execution_count": 3,
   "metadata": {
    "execution": {
     "iopub.execute_input": "2021-06-20T09:33:00.221404Z",
     "iopub.status.busy": "2021-06-20T09:33:00.220842Z",
     "iopub.status.idle": "2021-06-20T09:33:00.226818Z",
     "shell.execute_reply": "2021-06-20T09:33:00.225836Z",
     "shell.execute_reply.started": "2021-06-20T09:33:00.221364Z"
    }
   },
   "outputs": [],
   "source": [
    "def clear_tweets(text):\n",
    "    text=re.sub('<[^>]*>','',text)\n",
    "    emojis=re.findall('(?::|;|=)(?:-)?(?:\\)|\\(|D|P)',text)\n",
    "    text=re.sub('[\\W]+',' ',text.lower()) +' '.join(emojis).replace('-','')\n",
    "\n",
    "    return text   "
   ]
  },
  {
   "cell_type": "code",
   "execution_count": 4,
   "metadata": {
    "execution": {
     "iopub.execute_input": "2021-06-20T09:33:01.386361Z",
     "iopub.status.busy": "2021-06-20T09:33:01.385775Z",
     "iopub.status.idle": "2021-06-20T09:33:01.914297Z",
     "shell.execute_reply": "2021-06-20T09:33:01.913187Z",
     "shell.execute_reply.started": "2021-06-20T09:33:01.386311Z"
    }
   },
   "outputs": [
    {
     "data": {
      "text/html": [
       "<div>\n",
       "<style scoped>\n",
       "    .dataframe tbody tr th:only-of-type {\n",
       "        vertical-align: middle;\n",
       "    }\n",
       "\n",
       "    .dataframe tbody tr th {\n",
       "        vertical-align: top;\n",
       "    }\n",
       "\n",
       "    .dataframe thead th {\n",
       "        text-align: right;\n",
       "    }\n",
       "</style>\n",
       "<table border=\"1\" class=\"dataframe\">\n",
       "  <thead>\n",
       "    <tr style=\"text-align: right;\">\n",
       "      <th></th>\n",
       "      <th>id</th>\n",
       "      <th>label</th>\n",
       "      <th>tweet</th>\n",
       "    </tr>\n",
       "  </thead>\n",
       "  <tbody>\n",
       "    <tr>\n",
       "      <th>0</th>\n",
       "      <td>1</td>\n",
       "      <td>0</td>\n",
       "      <td>user when a father is dysfunctional and is so...</td>\n",
       "    </tr>\n",
       "    <tr>\n",
       "      <th>1</th>\n",
       "      <td>2</td>\n",
       "      <td>0</td>\n",
       "      <td>user user thanks for lyft credit i can t use ...</td>\n",
       "    </tr>\n",
       "    <tr>\n",
       "      <th>2</th>\n",
       "      <td>3</td>\n",
       "      <td>0</td>\n",
       "      <td>bihday your majesty</td>\n",
       "    </tr>\n",
       "    <tr>\n",
       "      <th>3</th>\n",
       "      <td>4</td>\n",
       "      <td>0</td>\n",
       "      <td>model i love u take with u all the time in ur...</td>\n",
       "    </tr>\n",
       "    <tr>\n",
       "      <th>4</th>\n",
       "      <td>5</td>\n",
       "      <td>0</td>\n",
       "      <td>factsguide society now motivation</td>\n",
       "    </tr>\n",
       "  </tbody>\n",
       "</table>\n",
       "</div>"
      ],
      "text/plain": [
       "   id  label                                              tweet\n",
       "0   1      0   user when a father is dysfunctional and is so...\n",
       "1   2      0   user user thanks for lyft credit i can t use ...\n",
       "2   3      0                                bihday your majesty\n",
       "3   4      0   model i love u take with u all the time in ur...\n",
       "4   5      0                  factsguide society now motivation"
      ]
     },
     "execution_count": 4,
     "metadata": {},
     "output_type": "execute_result"
    }
   ],
   "source": [
    "df_train['tweet']=df_train['tweet'].apply(clear_tweets)\n",
    "df_train.head()"
   ]
  },
  {
   "cell_type": "code",
   "execution_count": 5,
   "metadata": {
    "execution": {
     "iopub.execute_input": "2021-06-20T09:33:02.356265Z",
     "iopub.status.busy": "2021-06-20T09:33:02.355814Z",
     "iopub.status.idle": "2021-06-20T09:33:02.363110Z",
     "shell.execute_reply": "2021-06-20T09:33:02.362118Z",
     "shell.execute_reply.started": "2021-06-20T09:33:02.356230Z"
    }
   },
   "outputs": [
    {
     "data": {
      "text/plain": [
       "array([0, 1], dtype=int64)"
      ]
     },
     "execution_count": 5,
     "metadata": {},
     "output_type": "execute_result"
    }
   ],
   "source": [
    "df_train['label'].unique()"
   ]
  },
  {
   "cell_type": "code",
   "execution_count": 6,
   "metadata": {
    "execution": {
     "iopub.execute_input": "2021-06-20T09:33:03.096205Z",
     "iopub.status.busy": "2021-06-20T09:33:03.095785Z",
     "iopub.status.idle": "2021-06-20T09:33:03.101923Z",
     "shell.execute_reply": "2021-06-20T09:33:03.100994Z",
     "shell.execute_reply.started": "2021-06-20T09:33:03.096170Z"
    }
   },
   "outputs": [],
   "source": [
    "from nltk.corpus import stopwords\n",
    "from nltk.tokenize import word_tokenize\n",
    "stop=stopwords.words('english')\n",
    "\n",
    "stop_words = set(stopwords.words(\"english\"))\n"
   ]
  },
  {
   "cell_type": "code",
   "execution_count": 7,
   "metadata": {
    "execution": {
     "iopub.execute_input": "2021-06-20T09:33:03.956276Z",
     "iopub.status.busy": "2021-06-20T09:33:03.955686Z",
     "iopub.status.idle": "2021-06-20T09:33:03.960973Z",
     "shell.execute_reply": "2021-06-20T09:33:03.960110Z",
     "shell.execute_reply.started": "2021-06-20T09:33:03.956229Z"
    }
   },
   "outputs": [],
   "source": [
    "stemmer = PorterStemmer()"
   ]
  },
  {
   "cell_type": "code",
   "execution_count": 8,
   "metadata": {
    "execution": {
     "iopub.execute_input": "2021-06-20T09:33:04.456433Z",
     "iopub.status.busy": "2021-06-20T09:33:04.455864Z",
     "iopub.status.idle": "2021-06-20T09:33:04.463050Z",
     "shell.execute_reply": "2021-06-20T09:33:04.462108Z",
     "shell.execute_reply.started": "2021-06-20T09:33:04.456385Z"
    }
   },
   "outputs": [],
   "source": [
    "def func_2(tweets):\n",
    "    token=word_tokenize(tweets)\n",
    "    filtered_list = []\n",
    "    for word in token:\n",
    "        if word.casefold() not in stop_words:\n",
    "            filtered_list.append(word)\n",
    "    stemmed_words = [stemmer.stem(word) for word in filtered_list]\n",
    "    return stemmed_words"
   ]
  },
  {
   "cell_type": "code",
   "execution_count": 10,
   "metadata": {
    "execution": {
     "iopub.execute_input": "2021-06-20T09:33:05.291243Z",
     "iopub.status.busy": "2021-06-20T09:33:05.290821Z",
     "iopub.status.idle": "2021-06-20T09:33:19.292371Z",
     "shell.execute_reply": "2021-06-20T09:33:19.291447Z",
     "shell.execute_reply.started": "2021-06-20T09:33:05.291208Z"
    }
   },
   "outputs": [
    {
     "name": "stderr",
     "output_type": "stream",
     "text": [
      "[nltk_data] Downloading package punkt to C:\\Users\\Priyanshi\n",
      "[nltk_data]     Chandra\\AppData\\Roaming\\nltk_data...\n",
      "[nltk_data]   Unzipping tokenizers\\punkt.zip.\n"
     ]
    }
   ],
   "source": [
    "import nltk\n",
    "nltk.download('punkt')\n",
    "new_list=[]\n",
    "arr=[]\n",
    "i=0\n",
    "for tweet in df_train['tweet']:\n",
    "    new_list=func_2(tweet)\n",
    "    joined_str=\"\"\n",
    "    for word in new_list:\n",
    "        joined_str=joined_str+\" \"+word\n",
    "    arr.append(joined_str)"
   ]
  },
  {
   "cell_type": "code",
   "execution_count": 11,
   "metadata": {
    "execution": {
     "iopub.execute_input": "2021-06-20T09:33:19.294055Z",
     "iopub.status.busy": "2021-06-20T09:33:19.293720Z",
     "iopub.status.idle": "2021-06-20T09:33:19.302277Z",
     "shell.execute_reply": "2021-06-20T09:33:19.301294Z",
     "shell.execute_reply.started": "2021-06-20T09:33:19.294030Z"
    }
   },
   "outputs": [],
   "source": [
    "df_train['new_tweet']=arr"
   ]
  },
  {
   "cell_type": "code",
   "execution_count": 12,
   "metadata": {
    "execution": {
     "iopub.execute_input": "2021-06-20T09:33:19.304345Z",
     "iopub.status.busy": "2021-06-20T09:33:19.304005Z",
     "iopub.status.idle": "2021-06-20T09:33:19.321200Z",
     "shell.execute_reply": "2021-06-20T09:33:19.320179Z",
     "shell.execute_reply.started": "2021-06-20T09:33:19.304314Z"
    }
   },
   "outputs": [
    {
     "data": {
      "text/html": [
       "<div>\n",
       "<style scoped>\n",
       "    .dataframe tbody tr th:only-of-type {\n",
       "        vertical-align: middle;\n",
       "    }\n",
       "\n",
       "    .dataframe tbody tr th {\n",
       "        vertical-align: top;\n",
       "    }\n",
       "\n",
       "    .dataframe thead th {\n",
       "        text-align: right;\n",
       "    }\n",
       "</style>\n",
       "<table border=\"1\" class=\"dataframe\">\n",
       "  <thead>\n",
       "    <tr style=\"text-align: right;\">\n",
       "      <th></th>\n",
       "      <th>id</th>\n",
       "      <th>label</th>\n",
       "      <th>tweet</th>\n",
       "      <th>new_tweet</th>\n",
       "    </tr>\n",
       "  </thead>\n",
       "  <tbody>\n",
       "    <tr>\n",
       "      <th>0</th>\n",
       "      <td>1</td>\n",
       "      <td>0</td>\n",
       "      <td>user when a father is dysfunctional and is so...</td>\n",
       "      <td>user father dysfunct selfish drag kid dysfunc...</td>\n",
       "    </tr>\n",
       "    <tr>\n",
       "      <th>1</th>\n",
       "      <td>2</td>\n",
       "      <td>0</td>\n",
       "      <td>user user thanks for lyft credit i can t use ...</td>\n",
       "      <td>user user thank lyft credit use caus offer wh...</td>\n",
       "    </tr>\n",
       "    <tr>\n",
       "      <th>2</th>\n",
       "      <td>3</td>\n",
       "      <td>0</td>\n",
       "      <td>bihday your majesty</td>\n",
       "      <td>bihday majesti</td>\n",
       "    </tr>\n",
       "    <tr>\n",
       "      <th>3</th>\n",
       "      <td>4</td>\n",
       "      <td>0</td>\n",
       "      <td>model i love u take with u all the time in ur...</td>\n",
       "      <td>model love u take u time urð ð ð ð ð ð ð ð</td>\n",
       "    </tr>\n",
       "    <tr>\n",
       "      <th>4</th>\n",
       "      <td>5</td>\n",
       "      <td>0</td>\n",
       "      <td>factsguide society now motivation</td>\n",
       "      <td>factsguid societi motiv</td>\n",
       "    </tr>\n",
       "    <tr>\n",
       "      <th>...</th>\n",
       "      <td>...</td>\n",
       "      <td>...</td>\n",
       "      <td>...</td>\n",
       "      <td>...</td>\n",
       "    </tr>\n",
       "    <tr>\n",
       "      <th>31957</th>\n",
       "      <td>31958</td>\n",
       "      <td>0</td>\n",
       "      <td>ate user isz that youuu ð ð ð ð ð ð ð ð ð â ï</td>\n",
       "      <td>ate user isz youuu ð ð ð ð ð ð ð ð ð â ï</td>\n",
       "    </tr>\n",
       "    <tr>\n",
       "      <th>31958</th>\n",
       "      <td>31959</td>\n",
       "      <td>0</td>\n",
       "      <td>to see nina turner on the airwaves trying to ...</td>\n",
       "      <td>see nina turner airwav tri wrap mantl genuin ...</td>\n",
       "    </tr>\n",
       "    <tr>\n",
       "      <th>31959</th>\n",
       "      <td>31960</td>\n",
       "      <td>0</td>\n",
       "      <td>listening to sad songs on a monday morning otw...</td>\n",
       "      <td>listen sad song monday morn otw work sad</td>\n",
       "    </tr>\n",
       "    <tr>\n",
       "      <th>31960</th>\n",
       "      <td>31961</td>\n",
       "      <td>1</td>\n",
       "      <td>user sikh temple vandalised in in calgary wso...</td>\n",
       "      <td>user sikh templ vandalis calgari wso condemn act</td>\n",
       "    </tr>\n",
       "    <tr>\n",
       "      <th>31961</th>\n",
       "      <td>31962</td>\n",
       "      <td>0</td>\n",
       "      <td>thank you user for you follow</td>\n",
       "      <td>thank user follow</td>\n",
       "    </tr>\n",
       "  </tbody>\n",
       "</table>\n",
       "<p>31962 rows × 4 columns</p>\n",
       "</div>"
      ],
      "text/plain": [
       "          id  label                                              tweet  \\\n",
       "0          1      0   user when a father is dysfunctional and is so...   \n",
       "1          2      0   user user thanks for lyft credit i can t use ...   \n",
       "2          3      0                                bihday your majesty   \n",
       "3          4      0   model i love u take with u all the time in ur...   \n",
       "4          5      0                  factsguide society now motivation   \n",
       "...      ...    ...                                                ...   \n",
       "31957  31958      0     ate user isz that youuu ð ð ð ð ð ð ð ð ð â ï    \n",
       "31958  31959      0   to see nina turner on the airwaves trying to ...   \n",
       "31959  31960      0  listening to sad songs on a monday morning otw...   \n",
       "31960  31961      1   user sikh temple vandalised in in calgary wso...   \n",
       "31961  31962      0                     thank you user for you follow    \n",
       "\n",
       "                                               new_tweet  \n",
       "0       user father dysfunct selfish drag kid dysfunc...  \n",
       "1       user user thank lyft credit use caus offer wh...  \n",
       "2                                         bihday majesti  \n",
       "3             model love u take u time urð ð ð ð ð ð ð ð  \n",
       "4                                factsguid societi motiv  \n",
       "...                                                  ...  \n",
       "31957           ate user isz youuu ð ð ð ð ð ð ð ð ð â ï  \n",
       "31958   see nina turner airwav tri wrap mantl genuin ...  \n",
       "31959           listen sad song monday morn otw work sad  \n",
       "31960   user sikh templ vandalis calgari wso condemn act  \n",
       "31961                                  thank user follow  \n",
       "\n",
       "[31962 rows x 4 columns]"
      ]
     },
     "execution_count": 12,
     "metadata": {},
     "output_type": "execute_result"
    }
   ],
   "source": [
    "df_train"
   ]
  },
  {
   "cell_type": "code",
   "execution_count": 13,
   "metadata": {
    "execution": {
     "iopub.execute_input": "2021-06-20T09:33:19.323179Z",
     "iopub.status.busy": "2021-06-20T09:33:19.322825Z",
     "iopub.status.idle": "2021-06-20T09:33:19.356344Z",
     "shell.execute_reply": "2021-06-20T09:33:19.355363Z",
     "shell.execute_reply.started": "2021-06-20T09:33:19.323149Z"
    }
   },
   "outputs": [],
   "source": [
    "X_neg=[]\n",
    "X_pos=[]\n",
    "Y_pos=[]\n",
    "Y_neg=[]\n",
    "for t in df_train['new_tweet'][df_train['label']==0]:\n",
    "    X_neg.append(t)\n",
    "    \n",
    "for t in df_train['label'][df_train['label']==0]:\n",
    "    Y_neg.append(t)\n",
    "\n",
    "for t in df_train['new_tweet'][df_train['label']==1]:\n",
    "    X_pos.append(t)\n",
    "    \n",
    "for t in df_train['label'][df_train['label']==1]:\n",
    "    Y_pos.append(t)"
   ]
  },
  {
   "cell_type": "code",
   "execution_count": 28,
   "metadata": {
    "execution": {
     "iopub.execute_input": "2021-06-20T09:41:07.689348Z",
     "iopub.status.busy": "2021-06-20T09:41:07.688930Z",
     "iopub.status.idle": "2021-06-20T09:41:08.265693Z",
     "shell.execute_reply": "2021-06-20T09:41:08.264671Z",
     "shell.execute_reply.started": "2021-06-20T09:41:07.689316Z"
    }
   },
   "outputs": [],
   "source": [
    "from sklearn.feature_extraction.text import TfidfVectorizer\n",
    "\n",
    "vectorizer = TfidfVectorizer(max_features=10000)\n",
    "\n",
    "X_vec=vectorizer.fit_transform(df_train.new_tweet)"
   ]
  },
  {
   "cell_type": "code",
   "execution_count": 29,
   "metadata": {
    "execution": {
     "iopub.execute_input": "2021-06-20T09:41:08.591608Z",
     "iopub.status.busy": "2021-06-20T09:41:08.591217Z",
     "iopub.status.idle": "2021-06-20T09:41:08.599363Z",
     "shell.execute_reply": "2021-06-20T09:41:08.598302Z",
     "shell.execute_reply.started": "2021-06-20T09:41:08.591572Z"
    }
   },
   "outputs": [],
   "source": [
    "y=df_train.label.values\n",
    "from sklearn.model_selection import train_test_split\n",
    "X_train,X_test,y_train,y_test=train_test_split(X_vec,y,random_state=1,test_size=0.25,shuffle=False)"
   ]
  },
  {
   "cell_type": "code",
   "execution_count": 16,
   "metadata": {
    "execution": {
     "iopub.execute_input": "2021-06-20T09:41:09.351611Z",
     "iopub.status.busy": "2021-06-20T09:41:09.351199Z",
     "iopub.status.idle": "2021-06-20T09:41:26.171280Z",
     "shell.execute_reply": "2021-06-20T09:41:26.170038Z",
     "shell.execute_reply.started": "2021-06-20T09:41:09.351577Z"
    }
   },
   "outputs": [
    {
     "name": "stderr",
     "output_type": "stream",
     "text": [
      "[Parallel(n_jobs=-1)]: Using backend LokyBackend with 8 concurrent workers.\n",
      "[Parallel(n_jobs=-1)]: Done   3 out of   6 | elapsed:  1.6min remaining:  1.6min\n",
      "[Parallel(n_jobs=-1)]: Done   6 out of   6 | elapsed:  1.6min remaining:    0.0s\n",
      "[Parallel(n_jobs=-1)]: Done   6 out of   6 | elapsed:  1.6min finished\n"
     ]
    },
    {
     "name": "stdout",
     "output_type": "stream",
     "text": [
      "Accuracy: 0.9628331873357527\n"
     ]
    }
   ],
   "source": [
    "from sklearn.linear_model import LogisticRegressionCV\n",
    "clf=LogisticRegressionCV(cv=6,scoring='accuracy',random_state=0,n_jobs=-1,verbose=3,max_iter=500).fit(X_train,y_train)\n",
    "y_pred = clf.predict(X_test)\n",
    "from sklearn import metrics\n",
    "\n",
    "# Model Accuracy, how often is the classifier correct?\n",
    "print(\"Accuracy:\",metrics.accuracy_score(y_test, y_pred))"
   ]
  },
  {
   "cell_type": "code",
   "execution_count": 102,
   "metadata": {
    "execution": {
     "iopub.execute_input": "2021-06-20T09:41:26.179472Z",
     "iopub.status.busy": "2021-06-20T09:41:26.176805Z",
     "iopub.status.idle": "2021-06-20T09:41:34.144885Z",
     "shell.execute_reply": "2021-06-20T09:41:34.143974Z",
     "shell.execute_reply.started": "2021-06-20T09:41:26.179400Z"
    }
   },
   "outputs": [
    {
     "data": {
      "text/html": [
       "<div>\n",
       "<style scoped>\n",
       "    .dataframe tbody tr th:only-of-type {\n",
       "        vertical-align: middle;\n",
       "    }\n",
       "\n",
       "    .dataframe tbody tr th {\n",
       "        vertical-align: top;\n",
       "    }\n",
       "\n",
       "    .dataframe thead th {\n",
       "        text-align: right;\n",
       "    }\n",
       "</style>\n",
       "<table border=\"1\" class=\"dataframe\">\n",
       "  <thead>\n",
       "    <tr style=\"text-align: right;\">\n",
       "      <th></th>\n",
       "      <th>tweet</th>\n",
       "    </tr>\n",
       "  </thead>\n",
       "  <tbody>\n",
       "    <tr>\n",
       "      <th>0</th>\n",
       "      <td>studiolif aislif requir passion dedic willpow...</td>\n",
       "    </tr>\n",
       "    <tr>\n",
       "      <th>1</th>\n",
       "      <td>user white supremacist want everyon see new â...</td>\n",
       "    </tr>\n",
       "    <tr>\n",
       "      <th>2</th>\n",
       "      <td>safe way heal acn altwaystoh healthi heal</td>\n",
       "    </tr>\n",
       "    <tr>\n",
       "      <th>3</th>\n",
       "      <td>hp curs child book reserv alreadi ye ð ð ð ha...</td>\n",
       "    </tr>\n",
       "    <tr>\n",
       "      <th>4</th>\n",
       "      <td>3rd bihday amaz hilari nephew eli ahmir uncl ...</td>\n",
       "    </tr>\n",
       "  </tbody>\n",
       "</table>\n",
       "</div>"
      ],
      "text/plain": [
       "                                               tweet\n",
       "0   studiolif aislif requir passion dedic willpow...\n",
       "1   user white supremacist want everyon see new â...\n",
       "2          safe way heal acn altwaystoh healthi heal\n",
       "3   hp curs child book reserv alreadi ye ð ð ð ha...\n",
       "4   3rd bihday amaz hilari nephew eli ahmir uncl ..."
      ]
     },
     "execution_count": 102,
     "metadata": {},
     "output_type": "execute_result"
    }
   ],
   "source": [
    "df_test=pd.read_csv(\"test.csv\")\n",
    "test=df_test['tweet']\n",
    "test=test.apply(clear_tweets)\n",
    "test=test.apply(func_2)\n",
    "\n",
    "\n",
    "\n",
    "arr=[]\n",
    "\n",
    "for tweet in test:\n",
    "\n",
    "    joined_str=\"\"\n",
    "    for word in tweet:\n",
    "        joined_str=joined_str+\" \"+word\n",
    "    arr.append(joined_str)\n",
    "\n",
    "test=pd.DataFrame(arr,columns=['tweet'])\n",
    "\n",
    "\n",
    "test.head()\n"
   ]
  },
  {
   "cell_type": "code",
   "execution_count": 53,
   "metadata": {
    "execution": {
     "iopub.execute_input": "2021-06-20T09:46:45.991315Z",
     "iopub.status.busy": "2021-06-20T09:46:45.990902Z",
     "iopub.status.idle": "2021-06-20T09:46:46.288396Z",
     "shell.execute_reply": "2021-06-20T09:46:46.287541Z",
     "shell.execute_reply.started": "2021-06-20T09:46:45.991278Z"
    }
   },
   "outputs": [],
   "source": [
    "xtest=vectorizer.fit_transform(test.tweet)\n",
    "xtest.shape\n",
    "ytest=clf.predict(xtest)\n"
   ]
  },
  {
   "cell_type": "code",
   "execution_count": 54,
   "metadata": {
    "execution": {
     "iopub.execute_input": "2021-06-20T09:54:16.662574Z",
     "iopub.status.busy": "2021-06-20T09:54:16.662014Z",
     "iopub.status.idle": "2021-06-20T09:54:16.674305Z",
     "shell.execute_reply": "2021-06-20T09:54:16.673405Z",
     "shell.execute_reply.started": "2021-06-20T09:54:16.662526Z"
    }
   },
   "outputs": [
    {
     "data": {
      "text/html": [
       "<div>\n",
       "<style scoped>\n",
       "    .dataframe tbody tr th:only-of-type {\n",
       "        vertical-align: middle;\n",
       "    }\n",
       "\n",
       "    .dataframe tbody tr th {\n",
       "        vertical-align: top;\n",
       "    }\n",
       "\n",
       "    .dataframe thead th {\n",
       "        text-align: right;\n",
       "    }\n",
       "</style>\n",
       "<table border=\"1\" class=\"dataframe\">\n",
       "  <thead>\n",
       "    <tr style=\"text-align: right;\">\n",
       "      <th></th>\n",
       "      <th>tweet</th>\n",
       "      <th>label</th>\n",
       "    </tr>\n",
       "  </thead>\n",
       "  <tbody>\n",
       "    <tr>\n",
       "      <th>0</th>\n",
       "      <td>#studiolife #aislife #requires #passion #dedic...</td>\n",
       "      <td>0</td>\n",
       "    </tr>\n",
       "    <tr>\n",
       "      <th>1</th>\n",
       "      <td>@user #white #supremacists want everyone to s...</td>\n",
       "      <td>0</td>\n",
       "    </tr>\n",
       "    <tr>\n",
       "      <th>2</th>\n",
       "      <td>safe ways to heal your #acne!!    #altwaystohe...</td>\n",
       "      <td>0</td>\n",
       "    </tr>\n",
       "    <tr>\n",
       "      <th>3</th>\n",
       "      <td>is the hp and the cursed child book up for res...</td>\n",
       "      <td>0</td>\n",
       "    </tr>\n",
       "    <tr>\n",
       "      <th>4</th>\n",
       "      <td>3rd #bihday to my amazing, hilarious #nephew...</td>\n",
       "      <td>0</td>\n",
       "    </tr>\n",
       "  </tbody>\n",
       "</table>\n",
       "</div>"
      ],
      "text/plain": [
       "                                               tweet  label\n",
       "0  #studiolife #aislife #requires #passion #dedic...      0\n",
       "1   @user #white #supremacists want everyone to s...      0\n",
       "2  safe ways to heal your #acne!!    #altwaystohe...      0\n",
       "3  is the hp and the cursed child book up for res...      0\n",
       "4    3rd #bihday to my amazing, hilarious #nephew...      0"
      ]
     },
     "execution_count": 54,
     "metadata": {},
     "output_type": "execute_result"
    }
   ],
   "source": [
    "final=pd.DataFrame(df_test['tweet'],columns=['tweet'])\n",
    "final['label']=ytest\n",
    "final.head()"
   ]
  },
  {
   "cell_type": "code",
   "execution_count": 103,
   "metadata": {
    "execution": {
     "iopub.execute_input": "2021-06-20T09:06:48.773368Z",
     "iopub.status.busy": "2021-06-20T09:06:48.772950Z",
     "iopub.status.idle": "2021-06-20T09:06:49.671727Z",
     "shell.execute_reply": "2021-06-20T09:06:49.670728Z",
     "shell.execute_reply.started": "2021-06-20T09:06:48.773331Z"
    }
   },
   "outputs": [],
   "source": [
    "data=['Congratulations to His Excellency Ebrahim Raisi on his election as President of the Islamic Republic of Iran',\n",
    "      ' I look forward to working with him to further strengthen the warm ties between India and Iran.',\n",
    "      'Baghor shrine is a modest temple that only has a stone platform under Neem tree and a triangular shaped Yantra worshiped as Goddess in the middle of platform.',\n",
    "      'Yet, it has been worshiped continuously since 11,000 years from Paleolithic hunter gatherers to modern day inhabitants',\n",
    "      'This video legitimately made me wanna try Takis, and then the comment section talked me completely out of it.',\n",
    "      'i am living',\n",
    "      'guys for some reason i am in a minecraft tournament i am gonna be streaming it in like an hour',\n",
    "      'astronaut in the ocean was written and performed by a youth pastor i’m sure of it']"
   ]
  },
  {
   "cell_type": "code",
   "execution_count": 104,
   "metadata": {},
   "outputs": [
    {
     "data": {
      "text/html": [
       "<div>\n",
       "<style scoped>\n",
       "    .dataframe tbody tr th:only-of-type {\n",
       "        vertical-align: middle;\n",
       "    }\n",
       "\n",
       "    .dataframe tbody tr th {\n",
       "        vertical-align: top;\n",
       "    }\n",
       "\n",
       "    .dataframe thead th {\n",
       "        text-align: right;\n",
       "    }\n",
       "</style>\n",
       "<table border=\"1\" class=\"dataframe\">\n",
       "  <thead>\n",
       "    <tr style=\"text-align: right;\">\n",
       "      <th></th>\n",
       "      <th>tweet</th>\n",
       "    </tr>\n",
       "  </thead>\n",
       "  <tbody>\n",
       "    <tr>\n",
       "      <th>0</th>\n",
       "      <td>Congratulations to His Excellency Ebrahim Rais...</td>\n",
       "    </tr>\n",
       "    <tr>\n",
       "      <th>1</th>\n",
       "      <td>I look forward to working with him to further...</td>\n",
       "    </tr>\n",
       "    <tr>\n",
       "      <th>2</th>\n",
       "      <td>Baghor shrine is a modest temple that only has...</td>\n",
       "    </tr>\n",
       "    <tr>\n",
       "      <th>3</th>\n",
       "      <td>Yet, it has been worshiped continuously since ...</td>\n",
       "    </tr>\n",
       "    <tr>\n",
       "      <th>4</th>\n",
       "      <td>This video legitimately made me wanna try Taki...</td>\n",
       "    </tr>\n",
       "  </tbody>\n",
       "</table>\n",
       "</div>"
      ],
      "text/plain": [
       "                                               tweet\n",
       "0  Congratulations to His Excellency Ebrahim Rais...\n",
       "1   I look forward to working with him to further...\n",
       "2  Baghor shrine is a modest temple that only has...\n",
       "3  Yet, it has been worshiped continuously since ...\n",
       "4  This video legitimately made me wanna try Taki..."
      ]
     },
     "execution_count": 104,
     "metadata": {},
     "output_type": "execute_result"
    }
   ],
   "source": [
    "data=pd.DataFrame(data,columns=['tweet'])\n",
    "data.head()\n"
   ]
  },
  {
   "cell_type": "code",
   "execution_count": 105,
   "metadata": {},
   "outputs": [
    {
     "data": {
      "text/html": [
       "<div>\n",
       "<style scoped>\n",
       "    .dataframe tbody tr th:only-of-type {\n",
       "        vertical-align: middle;\n",
       "    }\n",
       "\n",
       "    .dataframe tbody tr th {\n",
       "        vertical-align: top;\n",
       "    }\n",
       "\n",
       "    .dataframe thead th {\n",
       "        text-align: right;\n",
       "    }\n",
       "</style>\n",
       "<table border=\"1\" class=\"dataframe\">\n",
       "  <thead>\n",
       "    <tr style=\"text-align: right;\">\n",
       "      <th></th>\n",
       "      <th>tweet</th>\n",
       "    </tr>\n",
       "  </thead>\n",
       "  <tbody>\n",
       "    <tr>\n",
       "      <th>17195</th>\n",
       "      <td>happi work confer right mindset lead cultur d...</td>\n",
       "    </tr>\n",
       "    <tr>\n",
       "      <th>17196</th>\n",
       "      <td>song glad free download shoegaz newmus newsong</td>\n",
       "    </tr>\n",
       "    <tr>\n",
       "      <th>17197</th>\n",
       "      <td>congratul excel ebrahim raisi elect presid is...</td>\n",
       "    </tr>\n",
       "    <tr>\n",
       "      <th>17198</th>\n",
       "      <td>look forward work strengthen warm tie india iran</td>\n",
       "    </tr>\n",
       "    <tr>\n",
       "      <th>17199</th>\n",
       "      <td>baghor shrine modest templ stone platform nee...</td>\n",
       "    </tr>\n",
       "    <tr>\n",
       "      <th>17200</th>\n",
       "      <td>yet worship continu sinc 11 000 year paleolit...</td>\n",
       "    </tr>\n",
       "    <tr>\n",
       "      <th>17201</th>\n",
       "      <td>video legitim made wan na tri taki comment se...</td>\n",
       "    </tr>\n",
       "    <tr>\n",
       "      <th>17202</th>\n",
       "      <td>live</td>\n",
       "    </tr>\n",
       "    <tr>\n",
       "      <th>17203</th>\n",
       "      <td>guy reason minecraft tournament gon na stream...</td>\n",
       "    </tr>\n",
       "    <tr>\n",
       "      <th>17204</th>\n",
       "      <td>astronaut ocean written perform youth pastor ...</td>\n",
       "    </tr>\n",
       "  </tbody>\n",
       "</table>\n",
       "</div>"
      ],
      "text/plain": [
       "                                                   tweet\n",
       "17195   happi work confer right mindset lead cultur d...\n",
       "17196     song glad free download shoegaz newmus newsong\n",
       "17197   congratul excel ebrahim raisi elect presid is...\n",
       "17198   look forward work strengthen warm tie india iran\n",
       "17199   baghor shrine modest templ stone platform nee...\n",
       "17200   yet worship continu sinc 11 000 year paleolit...\n",
       "17201   video legitim made wan na tri taki comment se...\n",
       "17202                                               live\n",
       "17203   guy reason minecraft tournament gon na stream...\n",
       "17204   astronaut ocean written perform youth pastor ..."
      ]
     },
     "execution_count": 105,
     "metadata": {},
     "output_type": "execute_result"
    }
   ],
   "source": [
    "\n",
    "text=data['tweet'].apply(clear_tweets)\n",
    "text=text.apply(func_2)\n",
    "\n",
    "arr=[]\n",
    "for tweet in text:\n",
    "    joined_str=\"\"\n",
    "    for word in tweet:\n",
    "        joined_str=joined_str+\" \"+word\n",
    "    arr.append(joined_str)\n",
    "    \n",
    "text=pd.DataFrame(arr,columns=['tweet'])\n",
    "test.shape\n",
    "\n",
    "test=test.append(text,ignore_index=True)\n",
    "test.tail(10)\n",
    "\n"
   ]
  },
  {
   "cell_type": "code",
   "execution_count": 106,
   "metadata": {},
   "outputs": [
    {
     "name": "stderr",
     "output_type": "stream",
     "text": [
      "[Parallel(n_jobs=-1)]: Using backend LokyBackend with 8 concurrent workers.\n",
      "[Parallel(n_jobs=-1)]: Done   3 out of   6 | elapsed:  1.1min remaining:  1.1min\n",
      "[Parallel(n_jobs=-1)]: Done   6 out of   6 | elapsed:  1.1min remaining:    0.0s\n",
      "[Parallel(n_jobs=-1)]: Done   6 out of   6 | elapsed:  1.1min finished\n"
     ]
    },
    {
     "data": {
      "text/html": [
       "<div>\n",
       "<style scoped>\n",
       "    .dataframe tbody tr th:only-of-type {\n",
       "        vertical-align: middle;\n",
       "    }\n",
       "\n",
       "    .dataframe tbody tr th {\n",
       "        vertical-align: top;\n",
       "    }\n",
       "\n",
       "    .dataframe thead th {\n",
       "        text-align: right;\n",
       "    }\n",
       "</style>\n",
       "<table border=\"1\" class=\"dataframe\">\n",
       "  <thead>\n",
       "    <tr style=\"text-align: right;\">\n",
       "      <th></th>\n",
       "      <th>tweet</th>\n",
       "      <th>label</th>\n",
       "    </tr>\n",
       "  </thead>\n",
       "  <tbody>\n",
       "    <tr>\n",
       "      <th>0</th>\n",
       "      <td>studiolif aislif requir passion dedic willpow...</td>\n",
       "      <td>0</td>\n",
       "    </tr>\n",
       "    <tr>\n",
       "      <th>1</th>\n",
       "      <td>user white supremacist want everyon see new â...</td>\n",
       "      <td>0</td>\n",
       "    </tr>\n",
       "    <tr>\n",
       "      <th>2</th>\n",
       "      <td>safe way heal acn altwaystoh healthi heal</td>\n",
       "      <td>0</td>\n",
       "    </tr>\n",
       "    <tr>\n",
       "      <th>3</th>\n",
       "      <td>hp curs child book reserv alreadi ye ð ð ð ha...</td>\n",
       "      <td>0</td>\n",
       "    </tr>\n",
       "    <tr>\n",
       "      <th>4</th>\n",
       "      <td>3rd bihday amaz hilari nephew eli ahmir uncl ...</td>\n",
       "      <td>0</td>\n",
       "    </tr>\n",
       "  </tbody>\n",
       "</table>\n",
       "</div>"
      ],
      "text/plain": [
       "                                               tweet  label\n",
       "0   studiolif aislif requir passion dedic willpow...      0\n",
       "1   user white supremacist want everyon see new â...      0\n",
       "2          safe way heal acn altwaystoh healthi heal      0\n",
       "3   hp curs child book reserv alreadi ye ð ð ð ha...      0\n",
       "4   3rd bihday amaz hilari nephew eli ahmir uncl ...      0"
      ]
     },
     "execution_count": 106,
     "metadata": {},
     "output_type": "execute_result"
    }
   ],
   "source": [
    "from sklearn.feature_extraction.text import TfidfVectorizer\n",
    "vec= TfidfVectorizer(max_features=10000)  \n",
    "\n",
    "from sklearn.linear_model import LogisticRegressionCV\n",
    "clf=LogisticRegressionCV(cv=6,scoring='accuracy',random_state=0,n_jobs=-1,verbose=3,max_iter=500).fit(X_train,y_train)\n",
    "xval=vec.fit_transform(test.tweet)\n",
    "\n",
    "yval=clf.predict(xval)\n",
    "\n",
    "final=pd.DataFrame(test['tweet'],columns=['tweet'])\n",
    "final['label']=yval\n",
    "final.head()"
   ]
  },
  {
   "cell_type": "code",
   "execution_count": 107,
   "metadata": {},
   "outputs": [
    {
     "data": {
      "text/html": [
       "<div>\n",
       "<style scoped>\n",
       "    .dataframe tbody tr th:only-of-type {\n",
       "        vertical-align: middle;\n",
       "    }\n",
       "\n",
       "    .dataframe tbody tr th {\n",
       "        vertical-align: top;\n",
       "    }\n",
       "\n",
       "    .dataframe thead th {\n",
       "        text-align: right;\n",
       "    }\n",
       "</style>\n",
       "<table border=\"1\" class=\"dataframe\">\n",
       "  <thead>\n",
       "    <tr style=\"text-align: right;\">\n",
       "      <th></th>\n",
       "      <th>tweet</th>\n",
       "      <th>label</th>\n",
       "    </tr>\n",
       "  </thead>\n",
       "  <tbody>\n",
       "    <tr>\n",
       "      <th>0</th>\n",
       "      <td>studiolif aislif requir passion dedic willpow...</td>\n",
       "      <td>0</td>\n",
       "    </tr>\n",
       "    <tr>\n",
       "      <th>1</th>\n",
       "      <td>user white supremacist want everyon see new â...</td>\n",
       "      <td>0</td>\n",
       "    </tr>\n",
       "    <tr>\n",
       "      <th>2</th>\n",
       "      <td>safe way heal acn altwaystoh healthi heal</td>\n",
       "      <td>0</td>\n",
       "    </tr>\n",
       "    <tr>\n",
       "      <th>3</th>\n",
       "      <td>hp curs child book reserv alreadi ye ð ð ð ha...</td>\n",
       "      <td>0</td>\n",
       "    </tr>\n",
       "    <tr>\n",
       "      <th>4</th>\n",
       "      <td>3rd bihday amaz hilari nephew eli ahmir uncl ...</td>\n",
       "      <td>0</td>\n",
       "    </tr>\n",
       "  </tbody>\n",
       "</table>\n",
       "</div>"
      ],
      "text/plain": [
       "                                               tweet  label\n",
       "0   studiolif aislif requir passion dedic willpow...      0\n",
       "1   user white supremacist want everyon see new â...      0\n",
       "2          safe way heal acn altwaystoh healthi heal      0\n",
       "3   hp curs child book reserv alreadi ye ð ð ð ha...      0\n",
       "4   3rd bihday amaz hilari nephew eli ahmir uncl ...      0"
      ]
     },
     "execution_count": 107,
     "metadata": {},
     "output_type": "execute_result"
    }
   ],
   "source": [
    "(final['label']).value_counts()\n",
    "final.head()"
   ]
  },
  {
   "cell_type": "code",
   "execution_count": 108,
   "metadata": {},
   "outputs": [
    {
     "data": {
      "text/html": [
       "<div>\n",
       "<style scoped>\n",
       "    .dataframe tbody tr th:only-of-type {\n",
       "        vertical-align: middle;\n",
       "    }\n",
       "\n",
       "    .dataframe tbody tr th {\n",
       "        vertical-align: top;\n",
       "    }\n",
       "\n",
       "    .dataframe thead th {\n",
       "        text-align: right;\n",
       "    }\n",
       "</style>\n",
       "<table border=\"1\" class=\"dataframe\">\n",
       "  <thead>\n",
       "    <tr style=\"text-align: right;\">\n",
       "      <th></th>\n",
       "      <th>tweet</th>\n",
       "      <th>label</th>\n",
       "    </tr>\n",
       "  </thead>\n",
       "  <tbody>\n",
       "    <tr>\n",
       "      <th>17185</th>\n",
       "      <td>today good day excercis imreadi sofuckenreadi...</td>\n",
       "      <td>0</td>\n",
       "    </tr>\n",
       "    <tr>\n",
       "      <th>17186</th>\n",
       "      <td>good night tea music â ï ð ð ð billi music te...</td>\n",
       "      <td>0</td>\n",
       "    </tr>\n",
       "    <tr>\n",
       "      <th>17187</th>\n",
       "      <td>love lifeð ºð â ï ð createyourfutur lifestyl ...</td>\n",
       "      <td>0</td>\n",
       "    </tr>\n",
       "    <tr>\n",
       "      <th>17188</th>\n",
       "      <td>black professor demon propos nazi style confi...</td>\n",
       "      <td>0</td>\n",
       "    </tr>\n",
       "    <tr>\n",
       "      <th>17189</th>\n",
       "      <td>learn think posit posit instagram instagood</td>\n",
       "      <td>0</td>\n",
       "    </tr>\n",
       "    <tr>\n",
       "      <th>17190</th>\n",
       "      <td>love pretti happi fresh teenilici fixdermatee...</td>\n",
       "      <td>0</td>\n",
       "    </tr>\n",
       "    <tr>\n",
       "      <th>17191</th>\n",
       "      <td>2_damn_tuff ruff_muff__techno_c ng005 web 199...</td>\n",
       "      <td>0</td>\n",
       "    </tr>\n",
       "    <tr>\n",
       "      <th>17192</th>\n",
       "      <td>thought factori left right polaris trump usel...</td>\n",
       "      <td>0</td>\n",
       "    </tr>\n",
       "    <tr>\n",
       "      <th>17193</th>\n",
       "      <td>feel like mermaid ð hairflip neverreadi forma...</td>\n",
       "      <td>0</td>\n",
       "    </tr>\n",
       "    <tr>\n",
       "      <th>17194</th>\n",
       "      <td>hillari campaign today ohio omg amp use word ...</td>\n",
       "      <td>0</td>\n",
       "    </tr>\n",
       "    <tr>\n",
       "      <th>17195</th>\n",
       "      <td>happi work confer right mindset lead cultur d...</td>\n",
       "      <td>0</td>\n",
       "    </tr>\n",
       "    <tr>\n",
       "      <th>17196</th>\n",
       "      <td>song glad free download shoegaz newmus newsong</td>\n",
       "      <td>0</td>\n",
       "    </tr>\n",
       "    <tr>\n",
       "      <th>17197</th>\n",
       "      <td>congratul excel ebrahim raisi elect presid is...</td>\n",
       "      <td>0</td>\n",
       "    </tr>\n",
       "    <tr>\n",
       "      <th>17198</th>\n",
       "      <td>look forward work strengthen warm tie india iran</td>\n",
       "      <td>0</td>\n",
       "    </tr>\n",
       "    <tr>\n",
       "      <th>17199</th>\n",
       "      <td>baghor shrine modest templ stone platform nee...</td>\n",
       "      <td>0</td>\n",
       "    </tr>\n",
       "    <tr>\n",
       "      <th>17200</th>\n",
       "      <td>yet worship continu sinc 11 000 year paleolit...</td>\n",
       "      <td>0</td>\n",
       "    </tr>\n",
       "    <tr>\n",
       "      <th>17201</th>\n",
       "      <td>video legitim made wan na tri taki comment se...</td>\n",
       "      <td>0</td>\n",
       "    </tr>\n",
       "    <tr>\n",
       "      <th>17202</th>\n",
       "      <td>live</td>\n",
       "      <td>0</td>\n",
       "    </tr>\n",
       "    <tr>\n",
       "      <th>17203</th>\n",
       "      <td>guy reason minecraft tournament gon na stream...</td>\n",
       "      <td>0</td>\n",
       "    </tr>\n",
       "    <tr>\n",
       "      <th>17204</th>\n",
       "      <td>astronaut ocean written perform youth pastor ...</td>\n",
       "      <td>0</td>\n",
       "    </tr>\n",
       "  </tbody>\n",
       "</table>\n",
       "</div>"
      ],
      "text/plain": [
       "                                                   tweet  label\n",
       "17185   today good day excercis imreadi sofuckenreadi...      0\n",
       "17186   good night tea music â ï ð ð ð billi music te...      0\n",
       "17187   love lifeð ºð â ï ð createyourfutur lifestyl ...      0\n",
       "17188   black professor demon propos nazi style confi...      0\n",
       "17189        learn think posit posit instagram instagood      0\n",
       "17190   love pretti happi fresh teenilici fixdermatee...      0\n",
       "17191   2_damn_tuff ruff_muff__techno_c ng005 web 199...      0\n",
       "17192   thought factori left right polaris trump usel...      0\n",
       "17193   feel like mermaid ð hairflip neverreadi forma...      0\n",
       "17194   hillari campaign today ohio omg amp use word ...      0\n",
       "17195   happi work confer right mindset lead cultur d...      0\n",
       "17196     song glad free download shoegaz newmus newsong      0\n",
       "17197   congratul excel ebrahim raisi elect presid is...      0\n",
       "17198   look forward work strengthen warm tie india iran      0\n",
       "17199   baghor shrine modest templ stone platform nee...      0\n",
       "17200   yet worship continu sinc 11 000 year paleolit...      0\n",
       "17201   video legitim made wan na tri taki comment se...      0\n",
       "17202                                               live      0\n",
       "17203   guy reason minecraft tournament gon na stream...      0\n",
       "17204   astronaut ocean written perform youth pastor ...      0"
      ]
     },
     "execution_count": 108,
     "metadata": {},
     "output_type": "execute_result"
    }
   ],
   "source": [
    "final.tail(20)"
   ]
  },
  {
   "cell_type": "code",
   "execution_count": 109,
   "metadata": {},
   "outputs": [
    {
     "data": {
      "text/plain": [
       "0    16900\n",
       "1      305\n",
       "Name: label, dtype: int64"
      ]
     },
     "execution_count": 109,
     "metadata": {},
     "output_type": "execute_result"
    }
   ],
   "source": [
    "final['label'].value_counts()"
   ]
  },
  {
   "cell_type": "code",
   "execution_count": 119,
   "metadata": {},
   "outputs": [
    {
     "name": "stderr",
     "output_type": "stream",
     "text": [
      "[Parallel(n_jobs=-1)]: Using backend LokyBackend with 8 concurrent workers.\n",
      "[Parallel(n_jobs=-1)]: Done   3 out of   6 | elapsed:  1.1min remaining:  1.1min\n",
      "[Parallel(n_jobs=-1)]: Done   6 out of   6 | elapsed:  1.1min remaining:    0.0s\n",
      "[Parallel(n_jobs=-1)]: Done   6 out of   6 | elapsed:  1.1min finished\n"
     ]
    },
    {
     "data": {
      "text/html": [
       "<div>\n",
       "<style scoped>\n",
       "    .dataframe tbody tr th:only-of-type {\n",
       "        vertical-align: middle;\n",
       "    }\n",
       "\n",
       "    .dataframe tbody tr th {\n",
       "        vertical-align: top;\n",
       "    }\n",
       "\n",
       "    .dataframe thead th {\n",
       "        text-align: right;\n",
       "    }\n",
       "</style>\n",
       "<table border=\"1\" class=\"dataframe\">\n",
       "  <thead>\n",
       "    <tr style=\"text-align: right;\">\n",
       "      <th></th>\n",
       "      <th>tweet</th>\n",
       "      <th>label</th>\n",
       "    </tr>\n",
       "  </thead>\n",
       "  <tbody>\n",
       "    <tr>\n",
       "      <th>0</th>\n",
       "      <td>studiolif aislif requir passion dedic willpow...</td>\n",
       "      <td>0</td>\n",
       "    </tr>\n",
       "    <tr>\n",
       "      <th>1</th>\n",
       "      <td>user white supremacist want everyon see new â...</td>\n",
       "      <td>0</td>\n",
       "    </tr>\n",
       "    <tr>\n",
       "      <th>2</th>\n",
       "      <td>safe way heal acn altwaystoh healthi heal</td>\n",
       "      <td>0</td>\n",
       "    </tr>\n",
       "    <tr>\n",
       "      <th>3</th>\n",
       "      <td>hp curs child book reserv alreadi ye ð ð ð ha...</td>\n",
       "      <td>0</td>\n",
       "    </tr>\n",
       "    <tr>\n",
       "      <th>4</th>\n",
       "      <td>3rd bihday amaz hilari nephew eli ahmir uncl ...</td>\n",
       "      <td>0</td>\n",
       "    </tr>\n",
       "  </tbody>\n",
       "</table>\n",
       "</div>"
      ],
      "text/plain": [
       "                                               tweet  label\n",
       "0   studiolif aislif requir passion dedic willpow...      0\n",
       "1   user white supremacist want everyon see new â...      0\n",
       "2          safe way heal acn altwaystoh healthi heal      0\n",
       "3   hp curs child book reserv alreadi ye ð ð ð ha...      0\n",
       "4   3rd bihday amaz hilari nephew eli ahmir uncl ...      0"
      ]
     },
     "execution_count": 119,
     "metadata": {},
     "output_type": "execute_result"
    }
   ],
   "source": [
    "tweet=['You are beautiful love ']\n",
    "data=pd.DataFrame(tweet,columns=['tweet'])\n",
    "data.head()\n",
    "text=data['tweet'].apply(clear_tweets)\n",
    "text=text.apply(func_2)\n",
    "\n",
    "arr=[]\n",
    "for tweet in text:\n",
    "    joined_str=\"\"\n",
    "    for word in tweet:\n",
    "        joined_str=joined_str+\" \"+word\n",
    "    arr.append(joined_str)\n",
    "    \n",
    "text=pd.DataFrame(arr,columns=['tweet'])\n",
    "# test.shape\n",
    "\n",
    "test=test.append(text,ignore_index=True)\n",
    "# test.tail(10)\n",
    "vec= TfidfVectorizer(max_features=10000)\n",
    "clf=LogisticRegressionCV(cv=6,scoring='accuracy',random_state=0,n_jobs=-1,verbose=3,max_iter=500).fit(X_train,y_train)\n",
    "xval=vec.fit_transform(test.tweet)\n",
    "\n",
    "yval=clf.predict(xval)\n",
    "\n",
    "final=pd.DataFrame(test['tweet'],columns=['tweet'])\n",
    "final['label']=yval\n",
    "final.head()\n"
   ]
  },
  {
   "cell_type": "code",
   "execution_count": 120,
   "metadata": {},
   "outputs": [
    {
     "data": {
      "text/plain": [
       "17208    0\n",
       "Name: label, dtype: int64"
      ]
     },
     "execution_count": 120,
     "metadata": {},
     "output_type": "execute_result"
    }
   ],
   "source": [
    "final['label'].tail(1)"
   ]
  },
  {
   "cell_type": "code",
   "execution_count": 121,
   "metadata": {},
   "outputs": [],
   "source": [
    "import pickle\n",
    "data={\"model\":clf,\"vectoriser\":vec}\n",
    "with open ('saved_steps.pk1','wb') as file:\n",
    "    pickle.dump(data,file)"
   ]
  },
  {
   "cell_type": "code",
   "execution_count": 122,
   "metadata": {},
   "outputs": [],
   "source": [
    "with open('saved_steps.pk1','rb') as file:\n",
    "    data=pickle.load(file)\n",
    "model_loaded=data['model']\n",
    "vectoriser_loaded=data['vectoriser']\n"
   ]
  },
  {
   "cell_type": "code",
   "execution_count": 127,
   "metadata": {},
   "outputs": [],
   "source": [
    "def predict(tweet,test):\n",
    "    data=pd.DataFrame(tweet,columns=['tweet'])\n",
    "#     data.head()\n",
    "    text=data['tweet'].apply(clear_tweets)\n",
    "    text=text.apply(func_2)\n",
    "\n",
    "    arr=[]\n",
    "    for tweet in text:\n",
    "        joined_str=\"\"\n",
    "        for word in tweet:\n",
    "            joined_str=joined_str+\" \"+word\n",
    "        arr.append(joined_str)\n",
    "\n",
    "    text=pd.DataFrame(arr,columns=['tweet'])\n",
    "    # test.shape\n",
    "\n",
    "    test=test.append(text,ignore_index=True)\n",
    "    # test.tail(10)\n",
    "    vec= TfidfVectorizer(max_features=10000)\n",
    "    clf=LogisticRegressionCV(cv=6,scoring='accuracy',random_state=0,n_jobs=-1,verbose=3,max_iter=500).fit(X_train,y_train)\n",
    "    xval=vec.fit_transform(test.tweet)\n",
    "\n",
    "    yval=clf.predict(xval)\n",
    "\n",
    "    final=pd.DataFrame(test['tweet'],columns=['tweet'])\n",
    "    final['label']=yval\n",
    "    return final\n",
    "#     final.head()"
   ]
  },
  {
   "cell_type": "code",
   "execution_count": 128,
   "metadata": {},
   "outputs": [
    {
     "name": "stderr",
     "output_type": "stream",
     "text": [
      "[Parallel(n_jobs=-1)]: Using backend LokyBackend with 8 concurrent workers.\n",
      "[Parallel(n_jobs=-1)]: Done   3 out of   6 | elapsed:   52.5s remaining:   52.5s\n",
      "[Parallel(n_jobs=-1)]: Done   6 out of   6 | elapsed:   53.0s remaining:    0.0s\n",
      "[Parallel(n_jobs=-1)]: Done   6 out of   6 | elapsed:   53.0s finished\n"
     ]
    }
   ],
   "source": [
    "tweet=['You are beautiful love ']\n",
    "final=predict(tweet,test)"
   ]
  },
  {
   "cell_type": "code",
   "execution_count": 138,
   "metadata": {},
   "outputs": [
    {
     "data": {
      "text/html": [
       "<div>\n",
       "<style scoped>\n",
       "    .dataframe tbody tr th:only-of-type {\n",
       "        vertical-align: middle;\n",
       "    }\n",
       "\n",
       "    .dataframe tbody tr th {\n",
       "        vertical-align: top;\n",
       "    }\n",
       "\n",
       "    .dataframe thead th {\n",
       "        text-align: right;\n",
       "    }\n",
       "</style>\n",
       "<table border=\"1\" class=\"dataframe\">\n",
       "  <thead>\n",
       "    <tr style=\"text-align: right;\">\n",
       "      <th></th>\n",
       "      <th>tweet</th>\n",
       "      <th>label</th>\n",
       "    </tr>\n",
       "  </thead>\n",
       "  <tbody>\n",
       "    <tr>\n",
       "      <th>17209</th>\n",
       "      <td>beauti love</td>\n",
       "      <td>0</td>\n",
       "    </tr>\n",
       "  </tbody>\n",
       "</table>\n",
       "</div>"
      ],
      "text/plain": [
       "              tweet  label\n",
       "17209   beauti love      0"
      ]
     },
     "execution_count": 138,
     "metadata": {},
     "output_type": "execute_result"
    }
   ],
   "source": [
    "final.tail(1)"
   ]
  },
  {
   "cell_type": "code",
   "execution_count": 148,
   "metadata": {},
   "outputs": [
    {
     "name": "stdout",
     "output_type": "stream",
     "text": [
      "0\n"
     ]
    }
   ],
   "source": [
    "i=final.label.tail(1).values[0]\n",
    "print(i)"
   ]
  },
  {
   "cell_type": "code",
   "execution_count": 141,
   "metadata": {},
   "outputs": [
    {
     "name": "stdout",
     "output_type": "stream",
     "text": [
      "<class 'pandas.core.series.Series'>\n"
     ]
    }
   ],
   "source": [
    "print(type(i))"
   ]
  },
  {
   "cell_type": "code",
   "execution_count": null,
   "metadata": {},
   "outputs": [],
   "source": []
  }
 ],
 "metadata": {
  "kernelspec": {
   "display_name": "Python 3",
   "language": "python",
   "name": "python3"
  },
  "language_info": {
   "codemirror_mode": {
    "name": "ipython",
    "version": 3
   },
   "file_extension": ".py",
   "mimetype": "text/x-python",
   "name": "python",
   "nbconvert_exporter": "python",
   "pygments_lexer": "ipython3",
   "version": "3.9.1"
  }
 },
 "nbformat": 4,
 "nbformat_minor": 4
}
